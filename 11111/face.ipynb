{
  "cells": [
    {
      "cell_type": "code",
      "execution_count": null,
      "metadata": {
        "id": "9Ml7JKADRD7-"
      },
      "outputs": [],
      "source": [
        "# /content/drive/MyDrive/11111"
      ]
    },
    {
      "cell_type": "code",
      "execution_count": null,
      "metadata": {
        "colab": {
          "base_uri": "https://localhost:8080/"
        },
        "id": "RoYF0NjcQ1ud",
        "outputId": "7ff452cf-5c30-4a66-cd0f-cb7d7e275886"
      },
      "outputs": [
        {
          "name": "stdout",
          "output_type": "stream",
          "text": [
            "Mounted at /content/drive\n"
          ]
        }
      ],
      "source": [
        "# from google.colab import drive\n",
        "# drive.mount('/content/drive')\n",
        "!pip install deepface                       \n",
        "import cv2\n",
        "import numpy as np\n",
        "from keras.models import model_from_json\n",
        "from google.colab.patches import cv2_imshow\n",
        "import imutils\n",
        "import argparse\n",
        "from deepface import DeepFace\n",
        "import os\n",
        "import uuid\n",
        "import pandas as pd\n",
        "import datetime\n",
        "\n",
        "import tensorflow as tf\n",
        "\n",
        "import glob\n",
        "from tqdm._tqdm_notebook import tqdm_notebook as tqdm\n",
        "\n",
        "from sklearn import preprocessing\n",
        "from sklearn.model_selection import train_test_split\n",
        "from keras.models import Sequential\n",
        "from keras.layers import Convolution2D, Dropout, Dense,MaxPooling2D\n",
        "from keras.layers import BatchNormalization\n",
        "from keras.layers import MaxPooling2D\n",
        "from keras.layers import Flatten\n",
        "\n",
        "from keras.models import Sequential\n",
        "from keras.layers import Dense, Dropout, Activation, Flatten, GlobalAveragePooling2D\n",
        "from keras.layers import Conv2D, MaxPooling2D, ZeroPadding2D\n",
        "\n",
        "from keras.models import Model\n",
        "from tensorflow.keras.models import Model\n",
        "\n",
        "import matplotlib.pyplot as plt\n",
        "from keras.applications import vgg16"
      ]
    },
    {
      "cell_type": "code",
      "execution_count": null,
      "metadata": {
        "colab": {
          "base_uri": "https://localhost:8080/"
        },
        "id": "ZAJQMQTtpRZM",
        "outputId": "aaa71df4-451b-407f-c3f7-cbb0b633c67c"
      },
      "outputs": [
        {
          "name": "stdout",
          "output_type": "stream",
          "text": [
            "Number of frames in the video: 51.0, Fps :25.0, Duration : 0:00:02 width: 1280.0 height : 720.0\n"
          ]
        }
      ],
      "source": [
        "# pass here your video path\n",
        "# you may download one from here : https://www.pexels.com/video/three-girls-laughing-5273028/\n",
        "cap = cv2.VideoCapture(\"/content/drive/MyDrive/11111/trim_video_2.mp4\")\n",
        "#cap.set(cv2.CAP_PROP_FPS, 2.0)\n",
        "\n",
        "# get width and height\n",
        "width = cap.get(cv2.CAP_PROP_FRAME_WIDTH )\n",
        "height = cap.get(cv2.CAP_PROP_FRAME_HEIGHT )\n",
        "\n",
        "\n",
        "# count the number of frames\n",
        "frames = cap.get(cv2.CAP_PROP_FRAME_COUNT)\n",
        "fps = cap.get(cv2.CAP_PROP_FPS)\n",
        "\n",
        "  \n",
        "# calculate duration of the video\n",
        "seconds = round(frames / fps)\n",
        "video_time = datetime.timedelta(seconds=seconds)\n",
        "print(f\"Number of frames in the video: {frames}, Fps :{fps}, Duration : {video_time} width: {width} height : {height}\")"
      ]
    },
    {
      "cell_type": "code",
      "execution_count": null,
      "metadata": {
        "id": "0hw5PXjbmCaD"
      },
      "outputs": [],
      "source": [
        "# choose codec according to format needed\n",
        "#fourcc = cv2.VideoWriter_fourcc(*'mp4v') \n",
        "#video = cv2.VideoWriter('video.avi', fourcc, 1, (640, 480))"
      ]
    },
    {
      "cell_type": "code",
      "execution_count": null,
      "metadata": {
        "id": "yNYfchKFNKJE"
      },
      "outputs": [],
      "source": [
        "# Define a list to store the face embeddings of all unique faces seen in the video\n",
        "whole_face_embeddings = []\n",
        "seen_face_embeddings = []\n",
        "seen_face_id = []\n",
        "final_data=[]\n",
        "threshold = 0.8\n",
        "models = [\"VGG-Face\", \"Facenet\", \"OpenFace\", \"DeepFace\", \"DeepID\", \"Dlib\", \"ArcFace\"]\n",
        "frame_img_array = []\n",
        "\n",
        "suspecious_model = tf.keras.models.load_model('/content/drive/MyDrive/11111/my_model.h5')\n",
        "\n",
        "\n",
        "\n",
        "def cosine_similarity(a, b):\n",
        "    return np.dot(a, b) / (np.linalg.norm(a) * np.linalg.norm(b))\n",
        "\n"
      ]
    },
    {
      "cell_type": "code",
      "execution_count": null,
      "metadata": {
        "colab": {
          "background_save": true,
          "base_uri": "https://localhost:8080/"
        },
        "id": "Y5S0FNuJzmF2",
        "outputId": "a40333f5-fb8f-46da-864e-9e636e2e7bb3"
      },
      "outputs": [
        {
          "name": "stderr",
          "output_type": "stream",
          "text": [
            "Downloading...\n",
            "From: https://github.com/serengil/deepface_models/releases/download/v1.0/facial_expression_model_weights.h5\n",
            "To: /root/.deepface/weights/facial_expression_model_weights.h5\n"
          ]
        },
        {
          "name": "stdout",
          "output_type": "stream",
          "text": [
            "facial_expression_model_weights.h5 will be downloaded...\n"
          ]
        },
        {
          "name": "stderr",
          "output_type": "stream",
          "text": [
            "100%|██████████| 5.98M/5.98M [00:00<00:00, 103MB/s]\n"
          ]
        },
        {
          "name": "stdout",
          "output_type": "stream",
          "text": [
            "age_model_weights.h5 will be downloaded...\n"
          ]
        },
        {
          "name": "stderr",
          "output_type": "stream",
          "text": [
            "Downloading...\n",
            "From: https://github.com/serengil/deepface_models/releases/download/v1.0/age_model_weights.h5\n",
            "To: /root/.deepface/weights/age_model_weights.h5\n",
            "100%|██████████| 539M/539M [00:06<00:00, 87.4MB/s]\n"
          ]
        },
        {
          "name": "stdout",
          "output_type": "stream",
          "text": [
            "gender_model_weights.h5 will be downloaded...\n"
          ]
        },
        {
          "name": "stderr",
          "output_type": "stream",
          "text": [
            "Downloading...\n",
            "From: https://github.com/serengil/deepface_models/releases/download/v1.0/gender_model_weights.h5\n",
            "To: /root/.deepface/weights/gender_model_weights.h5\n",
            "100%|██████████| 537M/537M [00:05<00:00, 101MB/s]\n"
          ]
        },
        {
          "name": "stdout",
          "output_type": "stream",
          "text": [
            "race_model_single_batch.h5 will be downloaded...\n"
          ]
        },
        {
          "name": "stderr",
          "output_type": "stream",
          "text": [
            "Downloading...\n",
            "From: https://github.com/serengil/deepface_models/releases/download/v1.0/race_model_single_batch.h5\n",
            "To: /root/.deepface/weights/race_model_single_batch.h5\n",
            "100%|██████████| 537M/537M [00:04<00:00, 111MB/s] \n",
            "Action: emotion: 100%|██████████| 4/4 [00:02<00:00,  1.47it/s]\n",
            "Action: emotion: 100%|██████████| 4/4 [00:02<00:00,  1.42it/s]\n",
            "Action: emotion: 100%|██████████| 4/4 [00:02<00:00,  1.54it/s]\n",
            "Action: emotion: 100%|██████████| 4/4 [00:01<00:00,  2.28it/s]\n"
          ]
        },
        {
          "name": "stdout",
          "output_type": "stream",
          "text": [
            "1/1 [==============================] - 1s 656ms/step\n",
            "1\n"
          ]
        },
        {
          "name": "stderr",
          "output_type": "stream",
          "text": [
            "Downloading...\n",
            "From: https://github.com/serengil/deepface_models/releases/download/v1.0/facenet_weights.h5\n",
            "To: /root/.deepface/weights/facenet_weights.h5\n"
          ]
        },
        {
          "name": "stdout",
          "output_type": "stream",
          "text": [
            "facenet_weights.h5 will be downloaded...\n"
          ]
        },
        {
          "name": "stderr",
          "output_type": "stream",
          "text": [
            "100%|██████████| 92.2M/92.2M [00:01<00:00, 72.8MB/s]\n"
          ]
        },
        {
          "name": "stdout",
          "output_type": "stream",
          "text": [
            "1/1 [==============================] - 1s 762ms/step\n",
            "0\n",
            "1/1 [==============================] - 1s 878ms/step\n",
            "1\n",
            "1/1 [==============================] - 1s 905ms/step\n",
            "0\n"
          ]
        },
        {
          "name": "stderr",
          "output_type": "stream",
          "text": [
            "Action: emotion: 100%|██████████| 4/4 [00:01<00:00,  2.24it/s]\n",
            "Action: emotion: 100%|██████████| 4/4 [00:01<00:00,  2.25it/s]\n",
            "Action: emotion: 100%|██████████| 4/4 [00:01<00:00,  2.23it/s]\n",
            "Action: emotion: 100%|██████████| 4/4 [00:01<00:00,  2.24it/s]\n"
          ]
        },
        {
          "name": "stdout",
          "output_type": "stream",
          "text": [
            "1/1 [==============================] - 0s 491ms/step\n",
            "0\n",
            "1/1 [==============================] - 0s 483ms/step\n",
            "0\n",
            "1/1 [==============================] - 0s 475ms/step\n",
            "1\n",
            "1/1 [==============================] - 0s 486ms/step\n",
            "1\n"
          ]
        },
        {
          "name": "stderr",
          "output_type": "stream",
          "text": [
            "Action: emotion: 100%|██████████| 4/4 [00:03<00:00,  1.29it/s]\n",
            "Action: emotion: 100%|██████████| 4/4 [00:01<00:00,  2.11it/s]\n",
            "Action: emotion: 100%|██████████| 4/4 [00:01<00:00,  2.27it/s]\n",
            "Action: emotion: 100%|██████████| 4/4 [00:01<00:00,  2.25it/s]\n"
          ]
        },
        {
          "name": "stdout",
          "output_type": "stream",
          "text": [
            "1/1 [==============================] - 0s 489ms/step\n",
            "0\n",
            "1/1 [==============================] - 0s 475ms/step\n",
            "0\n",
            "1/1 [==============================] - 0s 480ms/step\n",
            "1\n",
            "1/1 [==============================] - 0s 482ms/step\n",
            "1\n"
          ]
        },
        {
          "name": "stderr",
          "output_type": "stream",
          "text": [
            "Action: emotion: 100%|██████████| 4/4 [00:02<00:00,  1.96it/s]\n",
            "Action: emotion: 100%|██████████| 4/4 [00:03<00:00,  1.30it/s]\n",
            "Action: emotion: 100%|██████████| 4/4 [00:02<00:00,  1.95it/s]\n",
            "Action: emotion: 100%|██████████| 4/4 [00:01<00:00,  2.26it/s]\n",
            "Action: emotion: 100%|██████████| 4/4 [00:01<00:00,  2.24it/s]\n"
          ]
        },
        {
          "name": "stdout",
          "output_type": "stream",
          "text": [
            "1/1 [==============================] - 1s 514ms/step\n",
            "1\n",
            "1/1 [==============================] - 0s 468ms/step\n",
            "0\n",
            "1/1 [==============================] - 0s 482ms/step\n",
            "0\n",
            "1/1 [==============================] - 0s 473ms/step\n",
            "0\n",
            "1/1 [==============================] - 0s 468ms/step\n",
            "1\n"
          ]
        },
        {
          "name": "stderr",
          "output_type": "stream",
          "text": [
            "Action: emotion: 100%|██████████| 4/4 [00:02<00:00,  1.67it/s]\n",
            "Action: emotion: 100%|██████████| 4/4 [00:02<00:00,  1.53it/s]\n",
            "Action: emotion: 100%|██████████| 4/4 [00:01<00:00,  2.24it/s]\n",
            "Action: emotion: 100%|██████████| 4/4 [00:01<00:00,  2.27it/s]\n"
          ]
        },
        {
          "name": "stdout",
          "output_type": "stream",
          "text": [
            "1/1 [==============================] - 0s 486ms/step\n",
            "1\n",
            "1/1 [==============================] - 0s 489ms/step\n",
            "0\n",
            "1/1 [==============================] - 0s 480ms/step\n",
            "1\n",
            "1/1 [==============================] - 0s 485ms/step\n",
            "0\n"
          ]
        },
        {
          "name": "stderr",
          "output_type": "stream",
          "text": [
            "Action: emotion: 100%|██████████| 4/4 [00:01<00:00,  2.24it/s]\n",
            "Action: emotion: 100%|██████████| 4/4 [00:02<00:00,  1.45it/s]\n",
            "Action: emotion: 100%|██████████| 4/4 [00:02<00:00,  1.76it/s]\n",
            "Action: emotion: 100%|██████████| 4/4 [00:01<00:00,  2.25it/s]\n"
          ]
        },
        {
          "name": "stdout",
          "output_type": "stream",
          "text": [
            "1/1 [==============================] - 0s 488ms/step\n",
            "1\n",
            "1/1 [==============================] - 0s 481ms/step\n",
            "0\n",
            "1/1 [==============================] - 0s 489ms/step\n",
            "1\n",
            "1/1 [==============================] - 0s 482ms/step\n",
            "0\n"
          ]
        },
        {
          "name": "stderr",
          "output_type": "stream",
          "text": [
            "Action: emotion: 100%|██████████| 4/4 [00:01<00:00,  2.22it/s]\n",
            "Action: emotion: 100%|██████████| 4/4 [00:01<00:00,  2.21it/s]\n",
            "Action: emotion: 100%|██████████| 4/4 [00:03<00:00,  1.21it/s]\n",
            "Action: emotion: 100%|██████████| 4/4 [00:01<00:00,  2.20it/s]\n"
          ]
        },
        {
          "name": "stdout",
          "output_type": "stream",
          "text": [
            "1/1 [==============================] - 0s 485ms/step\n",
            "0\n",
            "1/1 [==============================] - 0s 479ms/step\n",
            "0\n",
            "1/1 [==============================] - 0s 488ms/step\n",
            "1\n",
            "1/1 [==============================] - 0s 486ms/step\n",
            "0\n"
          ]
        },
        {
          "name": "stderr",
          "output_type": "stream",
          "text": [
            "Action: emotion: 100%|██████████| 4/4 [00:01<00:00,  2.27it/s]\n",
            "Action: emotion: 100%|██████████| 4/4 [00:01<00:00,  2.25it/s]\n",
            "Action: emotion: 100%|██████████| 4/4 [00:02<00:00,  1.75it/s]\n",
            "Action: emotion: 100%|██████████| 4/4 [00:02<00:00,  1.41it/s]\n"
          ]
        },
        {
          "name": "stdout",
          "output_type": "stream",
          "text": [
            "1/1 [==============================] - 0s 489ms/step\n",
            "0\n",
            "1/1 [==============================] - 0s 479ms/step\n",
            "0\n",
            "1/1 [==============================] - 0s 485ms/step\n",
            "1\n",
            "1/1 [==============================] - 0s 474ms/step\n",
            "0\n"
          ]
        },
        {
          "name": "stderr",
          "output_type": "stream",
          "text": [
            "Action: emotion: 100%|██████████| 4/4 [00:01<00:00,  2.23it/s]\n",
            "Action: emotion: 100%|██████████| 4/4 [00:01<00:00,  2.25it/s]\n",
            "Action: emotion: 100%|██████████| 4/4 [00:01<00:00,  2.24it/s]\n",
            "Action: emotion: 100%|██████████| 4/4 [00:02<00:00,  1.36it/s]\n"
          ]
        },
        {
          "name": "stdout",
          "output_type": "stream",
          "text": [
            "1/1 [==============================] - 1s 771ms/step\n",
            "1\n",
            "1/1 [==============================] - 0s 488ms/step\n",
            "0\n",
            "1/1 [==============================] - 0s 473ms/step\n",
            "0\n",
            "1/1 [==============================] - 0s 480ms/step\n",
            "0\n"
          ]
        },
        {
          "name": "stderr",
          "output_type": "stream",
          "text": [
            "Action: emotion: 100%|██████████| 4/4 [00:01<00:00,  2.25it/s]\n",
            "Action: emotion: 100%|██████████| 4/4 [00:01<00:00,  2.27it/s]\n",
            "Action: emotion: 100%|██████████| 4/4 [00:01<00:00,  2.28it/s]\n",
            "Action: emotion: 100%|██████████| 4/4 [00:01<00:00,  2.14it/s]\n",
            "Action: emotion: 100%|██████████| 4/4 [00:03<00:00,  1.30it/s]\n"
          ]
        },
        {
          "name": "stdout",
          "output_type": "stream",
          "text": [
            "1/1 [==============================] - 1s 518ms/step\n",
            "0\n",
            "1/1 [==============================] - 0s 477ms/step\n",
            "0\n",
            "1/1 [==============================] - 0s 488ms/step\n",
            "0\n",
            "1/1 [==============================] - 0s 475ms/step\n",
            "0\n",
            "1/1 [==============================] - 0s 466ms/step\n",
            "1\n"
          ]
        },
        {
          "name": "stderr",
          "output_type": "stream",
          "text": [
            "Action: emotion: 100%|██████████| 4/4 [00:01<00:00,  2.24it/s]\n",
            "Action: emotion: 100%|██████████| 4/4 [00:01<00:00,  2.25it/s]\n",
            "Action: emotion: 100%|██████████| 4/4 [00:01<00:00,  2.23it/s]\n",
            "Action: emotion: 100%|██████████| 4/4 [00:02<00:00,  1.52it/s]\n"
          ]
        },
        {
          "name": "stdout",
          "output_type": "stream",
          "text": [
            "1/1 [==============================] - 1s 910ms/step\n",
            "0\n",
            "1/1 [==============================] - 1s 543ms/step\n",
            "0\n",
            "1/1 [==============================] - 0s 469ms/step\n",
            "1\n",
            "1/1 [==============================] - 0s 486ms/step\n",
            "0\n"
          ]
        },
        {
          "name": "stderr",
          "output_type": "stream",
          "text": [
            "Action: emotion: 100%|██████████| 4/4 [00:01<00:00,  2.27it/s]\n",
            "Action: emotion: 100%|██████████| 4/4 [00:01<00:00,  2.25it/s]\n",
            "Action: emotion: 100%|██████████| 4/4 [00:01<00:00,  2.25it/s]\n"
          ]
        },
        {
          "name": "stdout",
          "output_type": "stream",
          "text": [
            "1/1 [==============================] - 0s 486ms/step\n",
            "0\n",
            "1/1 [==============================] - 0s 479ms/step\n",
            "0\n",
            "1/1 [==============================] - 0s 487ms/step\n",
            "0\n"
          ]
        },
        {
          "name": "stderr",
          "output_type": "stream",
          "text": [
            "Action: emotion: 100%|██████████| 4/4 [00:02<00:00,  1.39it/s]\n",
            "Action: emotion: 100%|██████████| 4/4 [00:01<00:00,  2.26it/s]\n",
            "Action: emotion: 100%|██████████| 4/4 [00:01<00:00,  2.26it/s]\n"
          ]
        },
        {
          "name": "stdout",
          "output_type": "stream",
          "text": [
            "1/1 [==============================] - 0s 491ms/step\n",
            "0\n",
            "1/1 [==============================] - 0s 476ms/step\n",
            "0\n",
            "1/1 [==============================] - 0s 489ms/step\n",
            "0\n"
          ]
        },
        {
          "name": "stderr",
          "output_type": "stream",
          "text": [
            "Action: emotion: 100%|██████████| 4/4 [00:01<00:00,  2.22it/s]\n",
            "Action: emotion: 100%|██████████| 4/4 [00:02<00:00,  1.40it/s]\n",
            "Action: emotion: 100%|██████████| 4/4 [00:03<00:00,  1.15it/s]\n"
          ]
        },
        {
          "name": "stdout",
          "output_type": "stream",
          "text": [
            "1/1 [==============================] - 1s 749ms/step\n",
            "1\n",
            "1/1 [==============================] - 0s 479ms/step\n",
            "0\n",
            "1/1 [==============================] - 0s 491ms/step\n",
            "0\n"
          ]
        },
        {
          "name": "stderr",
          "output_type": "stream",
          "text": [
            "Action: emotion: 100%|██████████| 4/4 [00:01<00:00,  2.25it/s]\n",
            "Action: emotion: 100%|██████████| 4/4 [00:01<00:00,  2.23it/s]\n",
            "Action: emotion: 100%|██████████| 4/4 [00:01<00:00,  2.25it/s]\n"
          ]
        },
        {
          "name": "stdout",
          "output_type": "stream",
          "text": [
            "1/1 [==============================] - 0s 484ms/step\n",
            "1\n",
            "1/1 [==============================] - 0s 490ms/step\n",
            "0\n",
            "1/1 [==============================] - 0s 487ms/step\n",
            "0\n"
          ]
        },
        {
          "name": "stderr",
          "output_type": "stream",
          "text": [
            "Action: emotion: 100%|██████████| 4/4 [00:03<00:00,  1.30it/s]\n",
            "Action: emotion: 100%|██████████| 4/4 [00:01<00:00,  2.26it/s]\n"
          ]
        },
        {
          "name": "stdout",
          "output_type": "stream",
          "text": [
            "1/1 [==============================] - 0s 478ms/step\n",
            "0\n",
            "1/1 [==============================] - 0s 478ms/step\n",
            "0\n"
          ]
        },
        {
          "name": "stderr",
          "output_type": "stream",
          "text": [
            "Action: emotion: 100%|██████████| 4/4 [00:01<00:00,  2.24it/s]\n",
            "Action: emotion: 100%|██████████| 4/4 [00:01<00:00,  2.26it/s]\n",
            "Action: emotion: 100%|██████████| 4/4 [00:01<00:00,  2.22it/s]\n"
          ]
        },
        {
          "name": "stdout",
          "output_type": "stream",
          "text": [
            "1/1 [==============================] - 0s 491ms/step\n",
            "0\n",
            "1/1 [==============================] - 1s 859ms/step\n",
            "0\n",
            "1/1 [==============================] - 1s 857ms/step\n",
            "0\n"
          ]
        },
        {
          "name": "stderr",
          "output_type": "stream",
          "text": [
            "Action: emotion: 100%|██████████| 4/4 [00:01<00:00,  2.26it/s]\n",
            "Action: emotion: 100%|██████████| 4/4 [00:01<00:00,  2.29it/s]\n",
            "Action: emotion: 100%|██████████| 4/4 [00:01<00:00,  2.27it/s]\n"
          ]
        },
        {
          "name": "stdout",
          "output_type": "stream",
          "text": [
            "1/1 [==============================] - 0s 473ms/step\n",
            "0\n",
            "1/1 [==============================] - 0s 500ms/step\n",
            "0\n",
            "1/1 [==============================] - 0s 477ms/step\n",
            "0\n"
          ]
        },
        {
          "name": "stderr",
          "output_type": "stream",
          "text": [
            "Action: emotion: 100%|██████████| 4/4 [00:01<00:00,  2.24it/s]\n",
            "Action: emotion: 100%|██████████| 4/4 [00:02<00:00,  1.35it/s]\n",
            "Action: emotion: 100%|██████████| 4/4 [00:02<00:00,  1.92it/s]\n"
          ]
        },
        {
          "name": "stdout",
          "output_type": "stream",
          "text": [
            "1/1 [==============================] - 0s 478ms/step\n",
            "0\n",
            "1/1 [==============================] - 0s 475ms/step\n",
            "0\n",
            "1/1 [==============================] - 0s 476ms/step\n",
            "0\n"
          ]
        },
        {
          "name": "stderr",
          "output_type": "stream",
          "text": [
            "Action: emotion: 100%|██████████| 4/4 [00:01<00:00,  2.27it/s]\n",
            "Action: emotion: 100%|██████████| 4/4 [00:01<00:00,  2.26it/s]\n",
            "Action: emotion: 100%|██████████| 4/4 [00:01<00:00,  2.24it/s]\n"
          ]
        },
        {
          "name": "stdout",
          "output_type": "stream",
          "text": [
            "1/1 [==============================] - 0s 477ms/step\n",
            "0\n",
            "1/1 [==============================] - 1s 843ms/step\n",
            "1\n",
            "1/1 [==============================] - 1s 892ms/step\n",
            "0\n"
          ]
        },
        {
          "name": "stderr",
          "output_type": "stream",
          "text": [
            "Action: emotion: 100%|██████████| 4/4 [00:01<00:00,  2.25it/s]\n",
            "Action: emotion: 100%|██████████| 4/4 [00:01<00:00,  2.25it/s]\n",
            "Action: emotion: 100%|██████████| 4/4 [00:01<00:00,  2.24it/s]\n"
          ]
        },
        {
          "name": "stdout",
          "output_type": "stream",
          "text": [
            "1/1 [==============================] - 0s 485ms/step\n",
            "0\n",
            "1/1 [==============================] - 0s 481ms/step\n",
            "1\n",
            "1/1 [==============================] - 0s 482ms/step\n",
            "0\n"
          ]
        },
        {
          "name": "stderr",
          "output_type": "stream",
          "text": [
            "Action: emotion: 100%|██████████| 4/4 [00:01<00:00,  2.21it/s]\n",
            "Action: emotion: 100%|██████████| 4/4 [00:03<00:00,  1.28it/s]\n",
            "Action: emotion: 100%|██████████| 4/4 [00:01<00:00,  2.12it/s]\n"
          ]
        },
        {
          "name": "stdout",
          "output_type": "stream",
          "text": [
            "1/1 [==============================] - 0s 483ms/step\n",
            "0\n",
            "1/1 [==============================] - 0s 488ms/step\n",
            "0\n",
            "1/1 [==============================] - 0s 472ms/step\n",
            "0\n"
          ]
        },
        {
          "name": "stderr",
          "output_type": "stream",
          "text": [
            "Action: emotion: 100%|██████████| 4/4 [00:01<00:00,  2.24it/s]\n",
            "Action: emotion: 100%|██████████| 4/4 [00:01<00:00,  2.25it/s]\n",
            "Action: emotion: 100%|██████████| 4/4 [00:01<00:00,  2.25it/s]\n"
          ]
        },
        {
          "name": "stdout",
          "output_type": "stream",
          "text": [
            "1/1 [==============================] - 1s 692ms/step\n",
            "0\n",
            "1/1 [==============================] - 1s 877ms/step\n",
            "0\n",
            "1/1 [==============================] - 1s 887ms/step\n",
            "0\n"
          ]
        },
        {
          "name": "stderr",
          "output_type": "stream",
          "text": [
            "Action: emotion: 100%|██████████| 4/4 [00:01<00:00,  2.24it/s]\n",
            "Action: emotion: 100%|██████████| 4/4 [00:01<00:00,  2.22it/s]\n"
          ]
        },
        {
          "name": "stdout",
          "output_type": "stream",
          "text": [
            "1/1 [==============================] - 0s 471ms/step\n",
            "0\n",
            "1/1 [==============================] - 0s 484ms/step\n",
            "0\n"
          ]
        },
        {
          "name": "stderr",
          "output_type": "stream",
          "text": [
            "Action: emotion: 100%|██████████| 4/4 [00:01<00:00,  2.25it/s]\n",
            "Action: emotion: 100%|██████████| 4/4 [00:01<00:00,  2.25it/s]\n"
          ]
        },
        {
          "name": "stdout",
          "output_type": "stream",
          "text": [
            "1/1 [==============================] - 1s 595ms/step\n",
            "0\n",
            "1/1 [==============================] - 1s 921ms/step\n",
            "0\n"
          ]
        },
        {
          "name": "stderr",
          "output_type": "stream",
          "text": [
            "Action: emotion: 100%|██████████| 4/4 [00:02<00:00,  1.86it/s]\n",
            "Action: emotion: 100%|██████████| 4/4 [00:01<00:00,  2.23it/s]\n"
          ]
        },
        {
          "name": "stdout",
          "output_type": "stream",
          "text": [
            "1/1 [==============================] - 0s 500ms/step\n",
            "0\n",
            "1/1 [==============================] - 0s 484ms/step\n",
            "0\n"
          ]
        },
        {
          "name": "stderr",
          "output_type": "stream",
          "text": [
            "Action: emotion: 100%|██████████| 4/4 [00:01<00:00,  2.23it/s]\n",
            "Action: emotion: 100%|██████████| 4/4 [00:01<00:00,  2.27it/s]\n"
          ]
        },
        {
          "name": "stdout",
          "output_type": "stream",
          "text": [
            "1/1 [==============================] - 0s 471ms/step\n",
            "0\n",
            "1/1 [==============================] - 0s 489ms/step\n",
            "0\n"
          ]
        },
        {
          "name": "stderr",
          "output_type": "stream",
          "text": [
            "Action: emotion: 100%|██████████| 4/4 [00:02<00:00,  1.50it/s]\n",
            "Action: emotion: 100%|██████████| 4/4 [00:01<00:00,  2.26it/s]\n"
          ]
        },
        {
          "name": "stdout",
          "output_type": "stream",
          "text": [
            "1/1 [==============================] - 0s 484ms/step\n",
            "0\n",
            "1/1 [==============================] - 0s 489ms/step\n",
            "0\n"
          ]
        },
        {
          "name": "stderr",
          "output_type": "stream",
          "text": [
            "Action: emotion: 100%|██████████| 4/4 [00:01<00:00,  2.25it/s]\n",
            "Action: emotion: 100%|██████████| 4/4 [00:01<00:00,  2.24it/s]\n"
          ]
        },
        {
          "name": "stdout",
          "output_type": "stream",
          "text": [
            "1/1 [==============================] - 0s 478ms/step\n",
            "0\n",
            "1/1 [==============================] - 0s 472ms/step\n",
            "0\n"
          ]
        },
        {
          "name": "stderr",
          "output_type": "stream",
          "text": [
            "Action: emotion: 100%|██████████| 4/4 [00:03<00:00,  1.29it/s]\n",
            "Action: emotion: 100%|██████████| 4/4 [00:01<00:00,  2.07it/s]\n"
          ]
        },
        {
          "name": "stdout",
          "output_type": "stream",
          "text": [
            "1/1 [==============================] - 0s 481ms/step\n",
            "0\n",
            "1/1 [==============================] - 0s 489ms/step\n",
            "0\n"
          ]
        },
        {
          "name": "stderr",
          "output_type": "stream",
          "text": [
            "Action: emotion: 100%|██████████| 4/4 [00:01<00:00,  2.26it/s]\n",
            "Action: emotion: 100%|██████████| 4/4 [00:01<00:00,  2.23it/s]\n"
          ]
        },
        {
          "name": "stdout",
          "output_type": "stream",
          "text": [
            "1/1 [==============================] - 0s 481ms/step\n",
            "0\n",
            "1/1 [==============================] - 0s 477ms/step\n",
            "1\n"
          ]
        },
        {
          "name": "stderr",
          "output_type": "stream",
          "text": [
            "Action: emotion: 100%|██████████| 4/4 [00:02<00:00,  1.63it/s]\n",
            "Action: emotion: 100%|██████████| 4/4 [00:02<00:00,  1.56it/s]\n"
          ]
        },
        {
          "name": "stdout",
          "output_type": "stream",
          "text": [
            "1/1 [==============================] - 0s 477ms/step\n",
            "0\n",
            "1/1 [==============================] - 0s 476ms/step\n",
            "1\n"
          ]
        },
        {
          "name": "stderr",
          "output_type": "stream",
          "text": [
            "Action: emotion: 100%|██████████| 4/4 [00:01<00:00,  2.13it/s]\n",
            "Action: emotion: 100%|██████████| 4/4 [00:01<00:00,  2.24it/s]\n",
            "Action: emotion: 100%|██████████| 4/4 [00:01<00:00,  2.24it/s]\n"
          ]
        },
        {
          "name": "stdout",
          "output_type": "stream",
          "text": [
            "1/1 [==============================] - 0s 488ms/step\n",
            "1\n",
            "1/1 [==============================] - 0s 495ms/step\n",
            "1\n",
            "1/1 [==============================] - 1s 570ms/step\n",
            "0\n"
          ]
        },
        {
          "name": "stderr",
          "output_type": "stream",
          "text": [
            "Action: emotion: 100%|██████████| 4/4 [00:02<00:00,  1.50it/s]\n",
            "Action: emotion: 100%|██████████| 4/4 [00:01<00:00,  2.25it/s]\n",
            "Action: emotion: 100%|██████████| 4/4 [00:01<00:00,  2.23it/s]\n"
          ]
        },
        {
          "name": "stdout",
          "output_type": "stream",
          "text": [
            "1/1 [==============================] - 0s 483ms/step\n",
            "0\n",
            "1/1 [==============================] - 0s 488ms/step\n",
            "0\n",
            "1/1 [==============================] - 0s 476ms/step\n",
            "1\n"
          ]
        },
        {
          "name": "stderr",
          "output_type": "stream",
          "text": [
            "Action: emotion: 100%|██████████| 4/4 [00:01<00:00,  2.22it/s]\n",
            "Action: emotion: 100%|██████████| 4/4 [00:02<00:00,  1.94it/s]\n"
          ]
        },
        {
          "name": "stdout",
          "output_type": "stream",
          "text": [
            "1/1 [==============================] - 1s 907ms/step\n",
            "0\n",
            "1/1 [==============================] - 1s 907ms/step\n",
            "0\n"
          ]
        },
        {
          "name": "stderr",
          "output_type": "stream",
          "text": [
            "Action: emotion: 100%|██████████| 4/4 [00:01<00:00,  2.27it/s]\n",
            "Action: emotion: 100%|██████████| 4/4 [00:01<00:00,  2.28it/s]\n"
          ]
        },
        {
          "name": "stdout",
          "output_type": "stream",
          "text": [
            "1/1 [==============================] - 0s 488ms/step\n",
            "1\n",
            "1/1 [==============================] - 0s 480ms/step\n",
            "0\n"
          ]
        },
        {
          "name": "stderr",
          "output_type": "stream",
          "text": [
            "Action: emotion: 100%|██████████| 4/4 [00:01<00:00,  2.25it/s]\n",
            "Action: emotion: 100%|██████████| 4/4 [00:01<00:00,  2.25it/s]\n",
            "Action: emotion: 100%|██████████| 4/4 [00:02<00:00,  1.48it/s]\n"
          ]
        },
        {
          "name": "stdout",
          "output_type": "stream",
          "text": [
            "1/1 [==============================] - 1s 892ms/step\n",
            "1\n",
            "1/1 [==============================] - 0s 477ms/step\n",
            "1\n",
            "1/1 [==============================] - 0s 484ms/step\n",
            "0\n"
          ]
        },
        {
          "name": "stderr",
          "output_type": "stream",
          "text": [
            "Action: emotion: 100%|██████████| 4/4 [00:01<00:00,  2.24it/s]\n",
            "Action: emotion: 100%|██████████| 4/4 [00:01<00:00,  2.24it/s]\n",
            "Action: emotion: 100%|██████████| 4/4 [00:01<00:00,  2.26it/s]\n"
          ]
        },
        {
          "name": "stdout",
          "output_type": "stream",
          "text": [
            "1/1 [==============================] - 0s 473ms/step\n",
            "1\n",
            "1/1 [==============================] - 0s 493ms/step\n",
            "1\n",
            "1/1 [==============================] - 0s 486ms/step\n",
            "0\n"
          ]
        },
        {
          "name": "stderr",
          "output_type": "stream",
          "text": [
            "Action: emotion: 100%|██████████| 4/4 [00:03<00:00,  1.27it/s]\n",
            "Action: emotion: 100%|██████████| 4/4 [00:01<00:00,  2.12it/s]\n",
            "Action: emotion: 100%|██████████| 4/4 [00:01<00:00,  2.25it/s]\n"
          ]
        },
        {
          "name": "stdout",
          "output_type": "stream",
          "text": [
            "1/1 [==============================] - 0s 478ms/step\n",
            "0\n",
            "1/1 [==============================] - 0s 473ms/step\n",
            "1\n",
            "1/1 [==============================] - 0s 490ms/step\n",
            "0\n"
          ]
        },
        {
          "name": "stderr",
          "output_type": "stream",
          "text": [
            "Action: emotion: 100%|██████████| 4/4 [00:01<00:00,  2.26it/s]\n",
            "Action: emotion: 100%|██████████| 4/4 [00:01<00:00,  2.25it/s]\n",
            "Action: emotion: 100%|██████████| 4/4 [00:02<00:00,  1.46it/s]\n"
          ]
        },
        {
          "name": "stdout",
          "output_type": "stream",
          "text": [
            "1/1 [==============================] - 1s 894ms/step\n",
            "0\n",
            "1/1 [==============================] - 0s 476ms/step\n",
            "1\n",
            "1/1 [==============================] - 0s 488ms/step\n",
            "0\n"
          ]
        },
        {
          "name": "stderr",
          "output_type": "stream",
          "text": [
            "Action: emotion: 100%|██████████| 4/4 [00:01<00:00,  2.23it/s]\n",
            "Action: emotion: 100%|██████████| 4/4 [00:01<00:00,  2.23it/s]\n",
            "Action: emotion: 100%|██████████| 4/4 [00:01<00:00,  2.22it/s]\n",
            "Action: emotion: 100%|██████████| 4/4 [00:01<00:00,  2.22it/s]\n"
          ]
        },
        {
          "name": "stdout",
          "output_type": "stream",
          "text": [
            "1/1 [==============================] - 0s 477ms/step\n",
            "0\n",
            "1/1 [==============================] - 1s 846ms/step\n",
            "1\n",
            "1/1 [==============================] - 1s 886ms/step\n",
            "0\n",
            "1/1 [==============================] - 1s 890ms/step\n",
            "0\n"
          ]
        },
        {
          "name": "stderr",
          "output_type": "stream",
          "text": [
            "Action: emotion: 100%|██████████| 4/4 [00:01<00:00,  2.10it/s]\n",
            "Action: emotion: 100%|██████████| 4/4 [00:03<00:00,  1.29it/s]\n",
            "Action: emotion: 100%|██████████| 4/4 [00:01<00:00,  2.17it/s]\n",
            "Action: emotion: 100%|██████████| 4/4 [00:01<00:00,  2.20it/s]\n"
          ]
        },
        {
          "name": "stdout",
          "output_type": "stream",
          "text": [
            "1/1 [==============================] - 0s 481ms/step\n",
            "0\n",
            "1/1 [==============================] - 1s 849ms/step\n",
            "1\n",
            "1/1 [==============================] - 1s 875ms/step\n",
            "1\n",
            "1/1 [==============================] - 1s 914ms/step\n",
            "0\n"
          ]
        },
        {
          "name": "stderr",
          "output_type": "stream",
          "text": [
            "Action: emotion: 100%|██████████| 4/4 [00:01<00:00,  2.23it/s]\n",
            "Action: emotion: 100%|██████████| 4/4 [00:01<00:00,  2.24it/s]\n",
            "Action: emotion: 100%|██████████| 4/4 [00:02<00:00,  1.88it/s]\n",
            "Action: emotion: 100%|██████████| 4/4 [00:01<00:00,  2.19it/s]\n"
          ]
        },
        {
          "name": "stdout",
          "output_type": "stream",
          "text": [
            "1/1 [==============================] - 0s 482ms/step\n",
            "0\n",
            "1/1 [==============================] - 0s 484ms/step\n",
            "1\n",
            "1/1 [==============================] - 1s 533ms/step\n",
            "0\n",
            "1/1 [==============================] - 1s 913ms/step\n",
            "1\n"
          ]
        },
        {
          "name": "stderr",
          "output_type": "stream",
          "text": [
            "Action: emotion: 100%|██████████| 4/4 [00:02<00:00,  1.78it/s]\n",
            "Action: emotion: 100%|██████████| 4/4 [00:01<00:00,  2.17it/s]\n",
            "Action: emotion: 100%|██████████| 4/4 [00:01<00:00,  2.20it/s]\n"
          ]
        },
        {
          "name": "stdout",
          "output_type": "stream",
          "text": [
            "1/1 [==============================] - 0s 481ms/step\n",
            "0\n",
            "1/1 [==============================] - 0s 495ms/step\n",
            "0\n",
            "1/1 [==============================] - 0s 482ms/step\n",
            "0\n"
          ]
        },
        {
          "name": "stderr",
          "output_type": "stream",
          "text": [
            "Action: emotion: 100%|██████████| 4/4 [00:01<00:00,  2.22it/s]\n",
            "Action: emotion: 100%|██████████| 4/4 [00:03<00:00,  1.30it/s]\n",
            "Action: emotion: 100%|██████████| 4/4 [00:02<00:00,  1.92it/s]\n"
          ]
        },
        {
          "name": "stdout",
          "output_type": "stream",
          "text": [
            "1/1 [==============================] - 0s 483ms/step\n",
            "0\n",
            "1/1 [==============================] - 0s 492ms/step\n",
            "0\n",
            "1/1 [==============================] - 0s 493ms/step\n",
            "0\n"
          ]
        },
        {
          "name": "stderr",
          "output_type": "stream",
          "text": [
            "Action: emotion: 100%|██████████| 4/4 [00:01<00:00,  2.20it/s]\n",
            "Action: emotion: 100%|██████████| 4/4 [00:01<00:00,  2.20it/s]\n",
            "Action: emotion: 100%|██████████| 4/4 [00:01<00:00,  2.20it/s]\n"
          ]
        },
        {
          "name": "stdout",
          "output_type": "stream",
          "text": [
            "1/1 [==============================] - 1s 535ms/step\n",
            "0\n",
            "1/1 [==============================] - 1s 912ms/step\n",
            "0\n",
            "1/1 [==============================] - 1s 870ms/step\n",
            "0\n"
          ]
        },
        {
          "name": "stderr",
          "output_type": "stream",
          "text": [
            "Action: emotion: 100%|██████████| 4/4 [00:01<00:00,  2.23it/s]\n",
            "Action: emotion: 100%|██████████| 4/4 [00:01<00:00,  2.22it/s]\n",
            "Action: emotion: 100%|██████████| 4/4 [00:01<00:00,  2.23it/s]\n"
          ]
        },
        {
          "name": "stdout",
          "output_type": "stream",
          "text": [
            "1/1 [==============================] - 0s 492ms/step\n",
            "0\n",
            "1/1 [==============================] - 0s 488ms/step\n",
            "0\n",
            "1/1 [==============================] - 0s 476ms/step\n",
            "1\n"
          ]
        },
        {
          "name": "stderr",
          "output_type": "stream",
          "text": [
            "Action: emotion: 100%|██████████| 4/4 [00:01<00:00,  2.22it/s]\n",
            "Action: emotion: 100%|██████████| 4/4 [00:03<00:00,  1.28it/s]\n"
          ]
        },
        {
          "name": "stdout",
          "output_type": "stream",
          "text": [
            "1/1 [==============================] - 1s 569ms/step\n",
            "0\n",
            "1/1 [==============================] - 0s 487ms/step\n",
            "0\n"
          ]
        },
        {
          "name": "stderr",
          "output_type": "stream",
          "text": [
            "Action: emotion: 100%|██████████| 4/4 [00:01<00:00,  2.23it/s]\n",
            "Action: emotion: 100%|██████████| 4/4 [00:01<00:00,  2.22it/s]\n",
            "Action: emotion: 100%|██████████| 4/4 [00:01<00:00,  2.22it/s]\n"
          ]
        },
        {
          "name": "stdout",
          "output_type": "stream",
          "text": [
            "1/1 [==============================] - 0s 475ms/step\n",
            "0\n",
            "1/1 [==============================] - 0s 491ms/step\n",
            "0\n",
            "1/1 [==============================] - 0s 488ms/step\n",
            "0\n"
          ]
        },
        {
          "name": "stderr",
          "output_type": "stream",
          "text": [
            "Action: emotion: 100%|██████████| 4/4 [00:02<00:00,  1.35it/s]\n",
            "Action: emotion: 100%|██████████| 4/4 [00:02<00:00,  1.92it/s]\n",
            "Action: emotion: 100%|██████████| 4/4 [00:01<00:00,  2.25it/s]\n"
          ]
        },
        {
          "name": "stdout",
          "output_type": "stream",
          "text": [
            "1/1 [==============================] - 0s 482ms/step\n",
            "0\n",
            "1/1 [==============================] - 0s 488ms/step\n",
            "0\n",
            "1/1 [==============================] - 0s 492ms/step\n",
            "0\n"
          ]
        },
        {
          "name": "stderr",
          "output_type": "stream",
          "text": [
            "Action: emotion: 100%|██████████| 4/4 [00:01<00:00,  2.24it/s]\n",
            "Action: emotion: 100%|██████████| 4/4 [00:01<00:00,  2.24it/s]\n",
            "Action: emotion: 100%|██████████| 4/4 [00:02<00:00,  1.48it/s]\n"
          ]
        },
        {
          "name": "stdout",
          "output_type": "stream",
          "text": [
            "1/1 [==============================] - 1s 901ms/step\n",
            "0\n",
            "1/1 [==============================] - 0s 482ms/step\n",
            "0\n",
            "1/1 [==============================] - 0s 486ms/step\n",
            "0\n",
            "Number of unique faces in the video:  6\n",
            "Number of unique faces ID in the video:  6\n",
            "Number of total embedding:  156\n"
          ]
        }
      ],
      "source": [
        "#cap = cv2.VideoCapture(...) # open a video file or camera\n",
        "frame_no=0\n",
        "person_id=0\n",
        "assert cap.isOpened(), \"file/camera could not be opened!\"\n",
        "while True:\n",
        "   (success, img) = cap.read() # cap.read() always returns a tuple of two things\n",
        "   #img = cv2.resize(img, (720, 600))\n",
        "   if not success: \n",
        "     break # you absolutely must check this\n",
        "   else:\n",
        "      #print(\"Frame_no\",str(frame_no))\n",
        "      frame_no=int(frame_no)+int(1)\n",
        "\n",
        "      #cv2_imshow(img)\n",
        "      #cv2.imshow(\"Video\", img)\n",
        "      try:\n",
        "          objs = DeepFace.analyze(img, actions = ['age', 'gender', 'race', 'emotion'])\n",
        "          for obj in objs:\n",
        "            #print(obj)\n",
        "            x,y,w,h=obj['region']['x'],obj['region']['y'],obj['region']['w'],obj['region']['h']\n",
        "            #print(obj['region'])\n",
        "            gender=obj['dominant_gender']\n",
        "            emotion=obj['dominant_emotion']\n",
        "            race=obj['dominant_race']\n",
        "            age=obj['age']\n",
        "\n",
        "            # Crop the face from the image\n",
        "            cropped_img = img[y:y + h, x:x + w]\n",
        "\n",
        "            resize_image = cv2.resize(cropped_img, (224, 224))\n",
        "            test_array = []\n",
        "            test_array.append(resize_image)\n",
        "            test_single_image = np.array(test_array)\n",
        "            prob_suspecious = suspecious_model.predict(test_single_image) \n",
        "            prob_class = int(prob_suspecious.argmax(axis=-1)[0])\n",
        "            print(prob_class)\n",
        "\n",
        "\n",
        "            embedding=DeepFace.represent(cropped_img, model_name = models[1], enforce_detection = False)\n",
        "            face_embedding = embedding[0]['embedding']\n",
        "            whole_face_embeddings.append(face_embedding)\n",
        "            \n",
        "\n",
        "\n",
        "            # Check if the face embedding is similar to any of the seen face embeddings\n",
        "            similar = False\n",
        "            for seen_embedding in seen_face_embeddings:\n",
        "                cos_distance=cosine_similarity(np.array(face_embedding), np.array(seen_embedding))\n",
        "                #print('cosine_distance',cos_distance)\n",
        "\n",
        "                # Set a threshold for the distance, below which the two face embeddings are considered similar\n",
        "                if cos_distance > threshold:\n",
        "                    similar = True\n",
        "                    break\n",
        "\n",
        "            # If the face embedding is not similar to any face embeddings we have\n",
        "            # seen so far, add it to the list of seen face embeddings\n",
        "            if not similar:\n",
        "                  #user_id=uuid.uuid4()\n",
        "                  seen_face_id.append(person_id)\n",
        "                  seen_face_embeddings.append(face_embedding)\n",
        "                  data=[person_id,x,y,w,h,gender,emotion,race,age,frame_no,prob_class]\n",
        "                  final_data.append(data)\n",
        "                  person_id=int(person_id)+int(1)\n",
        "\n",
        "          for index,seen_embedding in enumerate(seen_face_embeddings,start=0):\n",
        "            cos_distance=cosine_similarity(np.array(face_embedding), np.array(seen_embedding))\n",
        "            if cos_distance > 0.8:\n",
        "              id=seen_face_id[index]\n",
        "              data=[id,x,y,w,h,gender,emotion,race,age,frame_no,prob_class]\n",
        "              final_data.append(data)\n",
        "            \n",
        "\n",
        "            cv2.rectangle(img, (x, y-50), (x+w, y+h+10), (0, 255, 0), 4)\n",
        "            cv2.putText(img, f\"{obj['dominant_gender']},{obj['dominant_emotion']},{obj['age']}\", (x+5, y-20), cv2.FONT_HERSHEY_SIMPLEX, 1, (255, 0, 0), 2, cv2.LINE_AA)\n",
        "          frame_img_array.append(img)\n",
        "         \n",
        "          #cv2_imshow(img)\n",
        "      except Exception as e:\n",
        "          print(str(e))\n",
        "      \n",
        "   if cv2.waitKey(1) & 0xFF == ord('q'):\n",
        "      break\n",
        "cap.release()\n",
        "\n",
        "cv2.destroyAllWindows()\n",
        "# Print the number of unique faces in the video\n",
        "print(\"Number of unique faces in the video: \", len(seen_face_embeddings))\n",
        "print(\"Number of unique faces ID in the video: \", len(seen_face_id))\n",
        "print(\"Number of total embedding: \", len(whole_face_embeddings))\n",
        "#print(seen_face_embeddings)\n",
        "# Create the pandas DataFrame\n",
        "df = pd.DataFrame(final_data, columns=['Face ID', 'X','Y','W','H','Gender','Emotion','Race','Age','Frame No','Suspecious'])\n",
        "\n",
        "\n",
        "\n"
      ]
    },
    {
      "cell_type": "code",
      "execution_count": null,
      "metadata": {
        "colab": {
          "background_save": true
        },
        "id": "KdcJ0N5iILYQ",
        "outputId": "d16dc2a2-eb6f-492f-c97b-e87f148d1b48"
      },
      "outputs": [
        {
          "data": {
            "text/plain": [
              "51"
            ]
          },
          "execution_count": 10,
          "metadata": {},
          "output_type": "execute_result"
        }
      ],
      "source": [
        "len(frame_img_array)"
      ]
    },
    {
      "cell_type": "code",
      "execution_count": null,
      "metadata": {
        "colab": {
          "background_save": true
        },
        "id": "M0Sj5iJaCDi9"
      },
      "outputs": [],
      "source": [
        "#process_folder='/content/drive/MyDrive/Colab Notebooks/process/'\n",
        "\n",
        "#for i in range(len(frame_img_array)):\n",
        "#    cv2.imwrite(f'{process_folder}{i}.png',frame_img_array[i])\n"
      ]
    },
    {
      "cell_type": "code",
      "execution_count": null,
      "metadata": {
        "colab": {
          "background_save": true
        },
        "id": "M_s5uuxtwv5U",
        "outputId": "f6820e45-c86d-4ba3-b6f2-edc3b9a77f76"
      },
      "outputs": [
        {
          "name": "stdout",
          "output_type": "stream",
          "text": [
            "Looking in indexes: https://pypi.org/simple, https://us-python.pkg.dev/colab-wheels/public/simple/\n",
            "Collecting sk-video\n",
            "  Downloading sk_video-1.1.10-py2.py3-none-any.whl (2.3 MB)\n",
            "\u001b[2K     \u001b[90m━━━━━━━━━━━━━━━━━━━━━━━━━━━━━━━━━━━━━━━━\u001b[0m \u001b[32m2.3/2.3 MB\u001b[0m \u001b[31m59.6 MB/s\u001b[0m eta \u001b[36m0:00:00\u001b[0m\n",
            "\u001b[?25hRequirement already satisfied: scipy in /usr/local/lib/python3.8/dist-packages (from sk-video) (1.7.3)\n",
            "Requirement already satisfied: numpy in /usr/local/lib/python3.8/dist-packages (from sk-video) (1.21.6)\n",
            "Installing collected packages: sk-video\n",
            "Successfully installed sk-video-1.1.10\n"
          ]
        }
      ],
      "source": [
        "!pip install sk-video"
      ]
    },
    {
      "cell_type": "code",
      "execution_count": null,
      "metadata": {
        "colab": {
          "background_save": true
        },
        "id": "aYJOh2gPwJUo"
      },
      "outputs": [],
      "source": [
        "import numpy as np\n",
        "import skvideo.io\n",
        "\n",
        "#libx264\n",
        "output_params={'-vcodec': 'libx264', '-crf':'15','-preset': 'ultrafast', '-pix_fmt': 'yuv444p','-r':'16'}   \n",
        "out_video =  np.empty([len(frame_img_array), int(height), int(width), 3], dtype = np.uint8)\n",
        "out_video =  out_video.astype(np.uint8)\n",
        "  \n",
        "for i in range(len(frame_img_array)):\n",
        "    #cv2_imshow(frame_img_array[i])\n",
        "    #img = cv2.imread(str(i) + '.png')\n",
        "    rgb_image = cv2.cvtColor(frame_img_array[i], cv2.COLOR_BGR2RGB)\n",
        "    out_video[i] = rgb_image\n",
        "\n",
        "# Writes the the output image sequences in a video file\n",
        "skvideo.io.vwrite(\"suman.mp4\", out_video,outputdict=output_params)"
      ]
    },
    {
      "cell_type": "code",
      "execution_count": null,
      "metadata": {
        "colab": {
          "background_save": true
        },
        "id": "7GUGDZSngIv_",
        "outputId": "a813ffc3-6b92-4d91-f2b7-803c4d5f3c19"
      },
      "outputs": [
        {
          "data": {
            "text/html": [
              "\n",
              "  <div id=\"df-72c3abf9-f5e3-46c5-8069-3c5ba4733df6\">\n",
              "    <div class=\"colab-df-container\">\n",
              "      <div>\n",
              "<style scoped>\n",
              "    .dataframe tbody tr th:only-of-type {\n",
              "        vertical-align: middle;\n",
              "    }\n",
              "\n",
              "    .dataframe tbody tr th {\n",
              "        vertical-align: top;\n",
              "    }\n",
              "\n",
              "    .dataframe thead th {\n",
              "        text-align: right;\n",
              "    }\n",
              "</style>\n",
              "<table border=\"1\" class=\"dataframe\">\n",
              "  <thead>\n",
              "    <tr style=\"text-align: right;\">\n",
              "      <th></th>\n",
              "      <th>Face ID</th>\n",
              "      <th>X</th>\n",
              "      <th>Y</th>\n",
              "      <th>W</th>\n",
              "      <th>H</th>\n",
              "      <th>Gender</th>\n",
              "      <th>Emotion</th>\n",
              "      <th>Race</th>\n",
              "      <th>Age</th>\n",
              "      <th>Frame No</th>\n",
              "      <th>Suspecious</th>\n",
              "    </tr>\n",
              "  </thead>\n",
              "  <tbody>\n",
              "    <tr>\n",
              "      <th>0</th>\n",
              "      <td>0</td>\n",
              "      <td>948</td>\n",
              "      <td>50</td>\n",
              "      <td>121</td>\n",
              "      <td>121</td>\n",
              "      <td>Man</td>\n",
              "      <td>sad</td>\n",
              "      <td>middle eastern</td>\n",
              "      <td>26</td>\n",
              "      <td>1</td>\n",
              "      <td>1</td>\n",
              "    </tr>\n",
              "    <tr>\n",
              "      <th>1</th>\n",
              "      <td>0</td>\n",
              "      <td>620</td>\n",
              "      <td>174</td>\n",
              "      <td>102</td>\n",
              "      <td>102</td>\n",
              "      <td>Woman</td>\n",
              "      <td>happy</td>\n",
              "      <td>white</td>\n",
              "      <td>28</td>\n",
              "      <td>1</td>\n",
              "      <td>0</td>\n",
              "    </tr>\n",
              "    <tr>\n",
              "      <th>2</th>\n",
              "      <td>1</td>\n",
              "      <td>285</td>\n",
              "      <td>207</td>\n",
              "      <td>203</td>\n",
              "      <td>203</td>\n",
              "      <td>Man</td>\n",
              "      <td>fear</td>\n",
              "      <td>middle eastern</td>\n",
              "      <td>28</td>\n",
              "      <td>2</td>\n",
              "      <td>1</td>\n",
              "    </tr>\n",
              "    <tr>\n",
              "      <th>3</th>\n",
              "      <td>1</td>\n",
              "      <td>285</td>\n",
              "      <td>207</td>\n",
              "      <td>203</td>\n",
              "      <td>203</td>\n",
              "      <td>Man</td>\n",
              "      <td>fear</td>\n",
              "      <td>middle eastern</td>\n",
              "      <td>28</td>\n",
              "      <td>2</td>\n",
              "      <td>1</td>\n",
              "    </tr>\n",
              "    <tr>\n",
              "      <th>4</th>\n",
              "      <td>0</td>\n",
              "      <td>266</td>\n",
              "      <td>213</td>\n",
              "      <td>205</td>\n",
              "      <td>205</td>\n",
              "      <td>Man</td>\n",
              "      <td>neutral</td>\n",
              "      <td>latino hispanic</td>\n",
              "      <td>27</td>\n",
              "      <td>3</td>\n",
              "      <td>1</td>\n",
              "    </tr>\n",
              "  </tbody>\n",
              "</table>\n",
              "</div>\n",
              "      <button class=\"colab-df-convert\" onclick=\"convertToInteractive('df-72c3abf9-f5e3-46c5-8069-3c5ba4733df6')\"\n",
              "              title=\"Convert this dataframe to an interactive table.\"\n",
              "              style=\"display:none;\">\n",
              "        \n",
              "  <svg xmlns=\"http://www.w3.org/2000/svg\" height=\"24px\"viewBox=\"0 0 24 24\"\n",
              "       width=\"24px\">\n",
              "    <path d=\"M0 0h24v24H0V0z\" fill=\"none\"/>\n",
              "    <path d=\"M18.56 5.44l.94 2.06.94-2.06 2.06-.94-2.06-.94-.94-2.06-.94 2.06-2.06.94zm-11 1L8.5 8.5l.94-2.06 2.06-.94-2.06-.94L8.5 2.5l-.94 2.06-2.06.94zm10 10l.94 2.06.94-2.06 2.06-.94-2.06-.94-.94-2.06-.94 2.06-2.06.94z\"/><path d=\"M17.41 7.96l-1.37-1.37c-.4-.4-.92-.59-1.43-.59-.52 0-1.04.2-1.43.59L10.3 9.45l-7.72 7.72c-.78.78-.78 2.05 0 2.83L4 21.41c.39.39.9.59 1.41.59.51 0 1.02-.2 1.41-.59l7.78-7.78 2.81-2.81c.8-.78.8-2.07 0-2.86zM5.41 20L4 18.59l7.72-7.72 1.47 1.35L5.41 20z\"/>\n",
              "  </svg>\n",
              "      </button>\n",
              "      \n",
              "  <style>\n",
              "    .colab-df-container {\n",
              "      display:flex;\n",
              "      flex-wrap:wrap;\n",
              "      gap: 12px;\n",
              "    }\n",
              "\n",
              "    .colab-df-convert {\n",
              "      background-color: #E8F0FE;\n",
              "      border: none;\n",
              "      border-radius: 50%;\n",
              "      cursor: pointer;\n",
              "      display: none;\n",
              "      fill: #1967D2;\n",
              "      height: 32px;\n",
              "      padding: 0 0 0 0;\n",
              "      width: 32px;\n",
              "    }\n",
              "\n",
              "    .colab-df-convert:hover {\n",
              "      background-color: #E2EBFA;\n",
              "      box-shadow: 0px 1px 2px rgba(60, 64, 67, 0.3), 0px 1px 3px 1px rgba(60, 64, 67, 0.15);\n",
              "      fill: #174EA6;\n",
              "    }\n",
              "\n",
              "    [theme=dark] .colab-df-convert {\n",
              "      background-color: #3B4455;\n",
              "      fill: #D2E3FC;\n",
              "    }\n",
              "\n",
              "    [theme=dark] .colab-df-convert:hover {\n",
              "      background-color: #434B5C;\n",
              "      box-shadow: 0px 1px 3px 1px rgba(0, 0, 0, 0.15);\n",
              "      filter: drop-shadow(0px 1px 2px rgba(0, 0, 0, 0.3));\n",
              "      fill: #FFFFFF;\n",
              "    }\n",
              "  </style>\n",
              "\n",
              "      <script>\n",
              "        const buttonEl =\n",
              "          document.querySelector('#df-72c3abf9-f5e3-46c5-8069-3c5ba4733df6 button.colab-df-convert');\n",
              "        buttonEl.style.display =\n",
              "          google.colab.kernel.accessAllowed ? 'block' : 'none';\n",
              "\n",
              "        async function convertToInteractive(key) {\n",
              "          const element = document.querySelector('#df-72c3abf9-f5e3-46c5-8069-3c5ba4733df6');\n",
              "          const dataTable =\n",
              "            await google.colab.kernel.invokeFunction('convertToInteractive',\n",
              "                                                     [key], {});\n",
              "          if (!dataTable) return;\n",
              "\n",
              "          const docLinkHtml = 'Like what you see? Visit the ' +\n",
              "            '<a target=\"_blank\" href=https://colab.research.google.com/notebooks/data_table.ipynb>data table notebook</a>'\n",
              "            + ' to learn more about interactive tables.';\n",
              "          element.innerHTML = '';\n",
              "          dataTable['output_type'] = 'display_data';\n",
              "          await google.colab.output.renderOutput(dataTable, element);\n",
              "          const docLink = document.createElement('div');\n",
              "          docLink.innerHTML = docLinkHtml;\n",
              "          element.appendChild(docLink);\n",
              "        }\n",
              "      </script>\n",
              "    </div>\n",
              "  </div>\n",
              "  "
            ],
            "text/plain": [
              "   Face ID    X    Y    W    H Gender  Emotion             Race  Age  \\\n",
              "0        0  948   50  121  121    Man      sad   middle eastern   26   \n",
              "1        0  620  174  102  102  Woman    happy            white   28   \n",
              "2        1  285  207  203  203    Man     fear   middle eastern   28   \n",
              "3        1  285  207  203  203    Man     fear   middle eastern   28   \n",
              "4        0  266  213  205  205    Man  neutral  latino hispanic   27   \n",
              "\n",
              "   Frame No  Suspecious  \n",
              "0         1           1  \n",
              "1         1           0  \n",
              "2         2           1  \n",
              "3         2           1  \n",
              "4         3           1  "
            ]
          },
          "execution_count": 14,
          "metadata": {},
          "output_type": "execute_result"
        }
      ],
      "source": [
        "df.head()"
      ]
    },
    {
      "cell_type": "code",
      "execution_count": null,
      "metadata": {
        "colab": {
          "background_save": true
        },
        "id": "sbDahgH_znO5",
        "outputId": "4892147a-db30-4a06-8cba-697d5e5c51a9"
      },
      "outputs": [
        {
          "data": {
            "text/plain": [
              "71"
            ]
          },
          "execution_count": 15,
          "metadata": {},
          "output_type": "execute_result"
        }
      ],
      "source": [
        "len(df)"
      ]
    },
    {
      "cell_type": "code",
      "execution_count": null,
      "metadata": {
        "colab": {
          "background_save": true
        },
        "id": "LT6PPMoeZDtB",
        "outputId": "13b4bbab-69a6-4e60-bbfc-07f77896ba03"
      },
      "outputs": [
        {
          "data": {
            "text/plain": [
              "0    60\n",
              "1    11\n",
              "Name: Suspecious, dtype: int64"
            ]
          },
          "execution_count": 16,
          "metadata": {},
          "output_type": "execute_result"
        }
      ],
      "source": [
        "df[\"Suspecious\"].value_counts()"
      ]
    },
    {
      "cell_type": "code",
      "execution_count": null,
      "metadata": {
        "colab": {
          "background_save": true
        },
        "id": "fBjnCASXfggT",
        "outputId": "d6a4e214-3008-40a8-c6f2-d8a574ee9d98"
      },
      "outputs": [
        {
          "data": {
            "text/plain": [
              "0    19\n",
              "1     9\n",
              "Name: Suspecious, dtype: int64"
            ]
          },
          "execution_count": 17,
          "metadata": {},
          "output_type": "execute_result"
        }
      ],
      "source": [
        "df[df[\"Face ID\"]==0]['Suspecious'].value_counts()"
      ]
    },
    {
      "cell_type": "code",
      "execution_count": null,
      "metadata": {
        "colab": {
          "background_save": true
        },
        "id": "k8zGkw9vOJNa"
      },
      "outputs": [],
      "source": [
        "df.to_csv('/content/drive/MyDrive/11111/video.csv', index=False)"
      ]
    },
    {
      "cell_type": "code",
      "execution_count": null,
      "metadata": {
        "colab": {
          "background_save": true
        },
        "id": "5AFydwVjdn0v",
        "outputId": "5340d0c8-e6c7-4d60-8932-38c4d55da417"
      },
      "outputs": [
        {
          "data": {
            "text/html": [
              "\n",
              "  <div id=\"df-7df9bfbe-35d4-42ef-8f0e-eac4fbaa3155\">\n",
              "    <div class=\"colab-df-container\">\n",
              "      <div>\n",
              "<style scoped>\n",
              "    .dataframe tbody tr th:only-of-type {\n",
              "        vertical-align: middle;\n",
              "    }\n",
              "\n",
              "    .dataframe tbody tr th {\n",
              "        vertical-align: top;\n",
              "    }\n",
              "\n",
              "    .dataframe thead th {\n",
              "        text-align: right;\n",
              "    }\n",
              "</style>\n",
              "<table border=\"1\" class=\"dataframe\">\n",
              "  <thead>\n",
              "    <tr style=\"text-align: right;\">\n",
              "      <th></th>\n",
              "      <th>Face ID</th>\n",
              "      <th>X</th>\n",
              "      <th>Y</th>\n",
              "      <th>W</th>\n",
              "      <th>H</th>\n",
              "      <th>Gender</th>\n",
              "      <th>Emotion</th>\n",
              "      <th>Race</th>\n",
              "      <th>Age</th>\n",
              "      <th>Frame No</th>\n",
              "      <th>Suspecious</th>\n",
              "    </tr>\n",
              "  </thead>\n",
              "  <tbody>\n",
              "    <tr>\n",
              "      <th>0</th>\n",
              "      <td>0</td>\n",
              "      <td>948</td>\n",
              "      <td>50</td>\n",
              "      <td>121</td>\n",
              "      <td>121</td>\n",
              "      <td>Man</td>\n",
              "      <td>sad</td>\n",
              "      <td>middle eastern</td>\n",
              "      <td>26</td>\n",
              "      <td>1</td>\n",
              "      <td>1</td>\n",
              "    </tr>\n",
              "    <tr>\n",
              "      <th>1</th>\n",
              "      <td>0</td>\n",
              "      <td>620</td>\n",
              "      <td>174</td>\n",
              "      <td>102</td>\n",
              "      <td>102</td>\n",
              "      <td>Woman</td>\n",
              "      <td>happy</td>\n",
              "      <td>white</td>\n",
              "      <td>28</td>\n",
              "      <td>1</td>\n",
              "      <td>0</td>\n",
              "    </tr>\n",
              "    <tr>\n",
              "      <th>2</th>\n",
              "      <td>1</td>\n",
              "      <td>285</td>\n",
              "      <td>207</td>\n",
              "      <td>203</td>\n",
              "      <td>203</td>\n",
              "      <td>Man</td>\n",
              "      <td>fear</td>\n",
              "      <td>middle eastern</td>\n",
              "      <td>28</td>\n",
              "      <td>2</td>\n",
              "      <td>1</td>\n",
              "    </tr>\n",
              "    <tr>\n",
              "      <th>3</th>\n",
              "      <td>1</td>\n",
              "      <td>285</td>\n",
              "      <td>207</td>\n",
              "      <td>203</td>\n",
              "      <td>203</td>\n",
              "      <td>Man</td>\n",
              "      <td>fear</td>\n",
              "      <td>middle eastern</td>\n",
              "      <td>28</td>\n",
              "      <td>2</td>\n",
              "      <td>1</td>\n",
              "    </tr>\n",
              "    <tr>\n",
              "      <th>4</th>\n",
              "      <td>0</td>\n",
              "      <td>266</td>\n",
              "      <td>213</td>\n",
              "      <td>205</td>\n",
              "      <td>205</td>\n",
              "      <td>Man</td>\n",
              "      <td>neutral</td>\n",
              "      <td>latino hispanic</td>\n",
              "      <td>27</td>\n",
              "      <td>3</td>\n",
              "      <td>1</td>\n",
              "    </tr>\n",
              "  </tbody>\n",
              "</table>\n",
              "</div>\n",
              "      <button class=\"colab-df-convert\" onclick=\"convertToInteractive('df-7df9bfbe-35d4-42ef-8f0e-eac4fbaa3155')\"\n",
              "              title=\"Convert this dataframe to an interactive table.\"\n",
              "              style=\"display:none;\">\n",
              "        \n",
              "  <svg xmlns=\"http://www.w3.org/2000/svg\" height=\"24px\"viewBox=\"0 0 24 24\"\n",
              "       width=\"24px\">\n",
              "    <path d=\"M0 0h24v24H0V0z\" fill=\"none\"/>\n",
              "    <path d=\"M18.56 5.44l.94 2.06.94-2.06 2.06-.94-2.06-.94-.94-2.06-.94 2.06-2.06.94zm-11 1L8.5 8.5l.94-2.06 2.06-.94-2.06-.94L8.5 2.5l-.94 2.06-2.06.94zm10 10l.94 2.06.94-2.06 2.06-.94-2.06-.94-.94-2.06-.94 2.06-2.06.94z\"/><path d=\"M17.41 7.96l-1.37-1.37c-.4-.4-.92-.59-1.43-.59-.52 0-1.04.2-1.43.59L10.3 9.45l-7.72 7.72c-.78.78-.78 2.05 0 2.83L4 21.41c.39.39.9.59 1.41.59.51 0 1.02-.2 1.41-.59l7.78-7.78 2.81-2.81c.8-.78.8-2.07 0-2.86zM5.41 20L4 18.59l7.72-7.72 1.47 1.35L5.41 20z\"/>\n",
              "  </svg>\n",
              "      </button>\n",
              "      \n",
              "  <style>\n",
              "    .colab-df-container {\n",
              "      display:flex;\n",
              "      flex-wrap:wrap;\n",
              "      gap: 12px;\n",
              "    }\n",
              "\n",
              "    .colab-df-convert {\n",
              "      background-color: #E8F0FE;\n",
              "      border: none;\n",
              "      border-radius: 50%;\n",
              "      cursor: pointer;\n",
              "      display: none;\n",
              "      fill: #1967D2;\n",
              "      height: 32px;\n",
              "      padding: 0 0 0 0;\n",
              "      width: 32px;\n",
              "    }\n",
              "\n",
              "    .colab-df-convert:hover {\n",
              "      background-color: #E2EBFA;\n",
              "      box-shadow: 0px 1px 2px rgba(60, 64, 67, 0.3), 0px 1px 3px 1px rgba(60, 64, 67, 0.15);\n",
              "      fill: #174EA6;\n",
              "    }\n",
              "\n",
              "    [theme=dark] .colab-df-convert {\n",
              "      background-color: #3B4455;\n",
              "      fill: #D2E3FC;\n",
              "    }\n",
              "\n",
              "    [theme=dark] .colab-df-convert:hover {\n",
              "      background-color: #434B5C;\n",
              "      box-shadow: 0px 1px 3px 1px rgba(0, 0, 0, 0.15);\n",
              "      filter: drop-shadow(0px 1px 2px rgba(0, 0, 0, 0.3));\n",
              "      fill: #FFFFFF;\n",
              "    }\n",
              "  </style>\n",
              "\n",
              "      <script>\n",
              "        const buttonEl =\n",
              "          document.querySelector('#df-7df9bfbe-35d4-42ef-8f0e-eac4fbaa3155 button.colab-df-convert');\n",
              "        buttonEl.style.display =\n",
              "          google.colab.kernel.accessAllowed ? 'block' : 'none';\n",
              "\n",
              "        async function convertToInteractive(key) {\n",
              "          const element = document.querySelector('#df-7df9bfbe-35d4-42ef-8f0e-eac4fbaa3155');\n",
              "          const dataTable =\n",
              "            await google.colab.kernel.invokeFunction('convertToInteractive',\n",
              "                                                     [key], {});\n",
              "          if (!dataTable) return;\n",
              "\n",
              "          const docLinkHtml = 'Like what you see? Visit the ' +\n",
              "            '<a target=\"_blank\" href=https://colab.research.google.com/notebooks/data_table.ipynb>data table notebook</a>'\n",
              "            + ' to learn more about interactive tables.';\n",
              "          element.innerHTML = '';\n",
              "          dataTable['output_type'] = 'display_data';\n",
              "          await google.colab.output.renderOutput(dataTable, element);\n",
              "          const docLink = document.createElement('div');\n",
              "          docLink.innerHTML = docLinkHtml;\n",
              "          element.appendChild(docLink);\n",
              "        }\n",
              "      </script>\n",
              "    </div>\n",
              "  </div>\n",
              "  "
            ],
            "text/plain": [
              "   Face ID    X    Y    W    H Gender  Emotion             Race  Age  \\\n",
              "0        0  948   50  121  121    Man      sad   middle eastern   26   \n",
              "1        0  620  174  102  102  Woman    happy            white   28   \n",
              "2        1  285  207  203  203    Man     fear   middle eastern   28   \n",
              "3        1  285  207  203  203    Man     fear   middle eastern   28   \n",
              "4        0  266  213  205  205    Man  neutral  latino hispanic   27   \n",
              "\n",
              "   Frame No  Suspecious  \n",
              "0         1           1  \n",
              "1         1           0  \n",
              "2         2           1  \n",
              "3         2           1  \n",
              "4         3           1  "
            ]
          },
          "execution_count": 19,
          "metadata": {},
          "output_type": "execute_result"
        }
      ],
      "source": [
        "df_csv = pd.read_csv ('/content/drive/MyDrive/11111/video.csv')\n",
        "df_csv.head()"
      ]
    },
    {
      "cell_type": "code",
      "execution_count": null,
      "metadata": {
        "colab": {
          "background_save": true
        },
        "id": "iupv0ypCY4QW",
        "outputId": "6a7b54e0-fde0-4bd7-f5fc-046a048115e5"
      },
      "outputs": [
        {
          "data": {
            "text/html": [
              "\n",
              "  <div id=\"df-66a9805a-2266-4bf4-a3f3-b1903c054b80\">\n",
              "    <div class=\"colab-df-container\">\n",
              "      <div>\n",
              "<style scoped>\n",
              "    .dataframe tbody tr th:only-of-type {\n",
              "        vertical-align: middle;\n",
              "    }\n",
              "\n",
              "    .dataframe tbody tr th {\n",
              "        vertical-align: top;\n",
              "    }\n",
              "\n",
              "    .dataframe thead th {\n",
              "        text-align: right;\n",
              "    }\n",
              "</style>\n",
              "<table border=\"1\" class=\"dataframe\">\n",
              "  <thead>\n",
              "    <tr style=\"text-align: right;\">\n",
              "      <th></th>\n",
              "      <th>Face ID</th>\n",
              "      <th>X</th>\n",
              "      <th>Y</th>\n",
              "      <th>W</th>\n",
              "      <th>H</th>\n",
              "      <th>Gender</th>\n",
              "      <th>Emotion</th>\n",
              "      <th>Race</th>\n",
              "      <th>Age</th>\n",
              "      <th>Frame No</th>\n",
              "      <th>Suspecious</th>\n",
              "    </tr>\n",
              "  </thead>\n",
              "  <tbody>\n",
              "    <tr>\n",
              "      <th>0</th>\n",
              "      <td>0</td>\n",
              "      <td>948</td>\n",
              "      <td>50</td>\n",
              "      <td>121</td>\n",
              "      <td>121</td>\n",
              "      <td>Man</td>\n",
              "      <td>sad</td>\n",
              "      <td>middle eastern</td>\n",
              "      <td>26</td>\n",
              "      <td>1</td>\n",
              "      <td>1</td>\n",
              "    </tr>\n",
              "    <tr>\n",
              "      <th>1</th>\n",
              "      <td>0</td>\n",
              "      <td>620</td>\n",
              "      <td>174</td>\n",
              "      <td>102</td>\n",
              "      <td>102</td>\n",
              "      <td>Woman</td>\n",
              "      <td>happy</td>\n",
              "      <td>white</td>\n",
              "      <td>28</td>\n",
              "      <td>1</td>\n",
              "      <td>0</td>\n",
              "    </tr>\n",
              "    <tr>\n",
              "      <th>4</th>\n",
              "      <td>0</td>\n",
              "      <td>266</td>\n",
              "      <td>213</td>\n",
              "      <td>205</td>\n",
              "      <td>205</td>\n",
              "      <td>Man</td>\n",
              "      <td>neutral</td>\n",
              "      <td>latino hispanic</td>\n",
              "      <td>27</td>\n",
              "      <td>3</td>\n",
              "      <td>1</td>\n",
              "    </tr>\n",
              "    <tr>\n",
              "      <th>5</th>\n",
              "      <td>0</td>\n",
              "      <td>1188</td>\n",
              "      <td>496</td>\n",
              "      <td>67</td>\n",
              "      <td>67</td>\n",
              "      <td>Man</td>\n",
              "      <td>neutral</td>\n",
              "      <td>white</td>\n",
              "      <td>26</td>\n",
              "      <td>4</td>\n",
              "      <td>1</td>\n",
              "    </tr>\n",
              "    <tr>\n",
              "      <th>6</th>\n",
              "      <td>0</td>\n",
              "      <td>209</td>\n",
              "      <td>194</td>\n",
              "      <td>228</td>\n",
              "      <td>228</td>\n",
              "      <td>Man</td>\n",
              "      <td>neutral</td>\n",
              "      <td>latino hispanic</td>\n",
              "      <td>32</td>\n",
              "      <td>5</td>\n",
              "      <td>0</td>\n",
              "    </tr>\n",
              "    <tr>\n",
              "      <th>7</th>\n",
              "      <td>0</td>\n",
              "      <td>194</td>\n",
              "      <td>189</td>\n",
              "      <td>222</td>\n",
              "      <td>222</td>\n",
              "      <td>Man</td>\n",
              "      <td>angry</td>\n",
              "      <td>latino hispanic</td>\n",
              "      <td>31</td>\n",
              "      <td>6</td>\n",
              "      <td>0</td>\n",
              "    </tr>\n",
              "    <tr>\n",
              "      <th>12</th>\n",
              "      <td>0</td>\n",
              "      <td>102</td>\n",
              "      <td>421</td>\n",
              "      <td>101</td>\n",
              "      <td>101</td>\n",
              "      <td>Man</td>\n",
              "      <td>neutral</td>\n",
              "      <td>white</td>\n",
              "      <td>24</td>\n",
              "      <td>10</td>\n",
              "      <td>1</td>\n",
              "    </tr>\n",
              "    <tr>\n",
              "      <th>26</th>\n",
              "      <td>0</td>\n",
              "      <td>598</td>\n",
              "      <td>8</td>\n",
              "      <td>281</td>\n",
              "      <td>281</td>\n",
              "      <td>Man</td>\n",
              "      <td>neutral</td>\n",
              "      <td>indian</td>\n",
              "      <td>25</td>\n",
              "      <td>23</td>\n",
              "      <td>0</td>\n",
              "    </tr>\n",
              "    <tr>\n",
              "      <th>28</th>\n",
              "      <td>0</td>\n",
              "      <td>1013</td>\n",
              "      <td>58</td>\n",
              "      <td>130</td>\n",
              "      <td>130</td>\n",
              "      <td>Man</td>\n",
              "      <td>angry</td>\n",
              "      <td>middle eastern</td>\n",
              "      <td>25</td>\n",
              "      <td>25</td>\n",
              "      <td>0</td>\n",
              "    </tr>\n",
              "    <tr>\n",
              "      <th>32</th>\n",
              "      <td>0</td>\n",
              "      <td>201</td>\n",
              "      <td>170</td>\n",
              "      <td>265</td>\n",
              "      <td>265</td>\n",
              "      <td>Man</td>\n",
              "      <td>neutral</td>\n",
              "      <td>indian</td>\n",
              "      <td>33</td>\n",
              "      <td>29</td>\n",
              "      <td>0</td>\n",
              "    </tr>\n",
              "    <tr>\n",
              "      <th>35</th>\n",
              "      <td>0</td>\n",
              "      <td>785</td>\n",
              "      <td>5</td>\n",
              "      <td>308</td>\n",
              "      <td>308</td>\n",
              "      <td>Man</td>\n",
              "      <td>fear</td>\n",
              "      <td>indian</td>\n",
              "      <td>24</td>\n",
              "      <td>31</td>\n",
              "      <td>1</td>\n",
              "    </tr>\n",
              "    <tr>\n",
              "      <th>36</th>\n",
              "      <td>0</td>\n",
              "      <td>823</td>\n",
              "      <td>14</td>\n",
              "      <td>315</td>\n",
              "      <td>315</td>\n",
              "      <td>Man</td>\n",
              "      <td>fear</td>\n",
              "      <td>black</td>\n",
              "      <td>23</td>\n",
              "      <td>32</td>\n",
              "      <td>1</td>\n",
              "    </tr>\n",
              "    <tr>\n",
              "      <th>37</th>\n",
              "      <td>0</td>\n",
              "      <td>148</td>\n",
              "      <td>170</td>\n",
              "      <td>270</td>\n",
              "      <td>270</td>\n",
              "      <td>Man</td>\n",
              "      <td>neutral</td>\n",
              "      <td>indian</td>\n",
              "      <td>33</td>\n",
              "      <td>33</td>\n",
              "      <td>0</td>\n",
              "    </tr>\n",
              "    <tr>\n",
              "      <th>39</th>\n",
              "      <td>0</td>\n",
              "      <td>904</td>\n",
              "      <td>7</td>\n",
              "      <td>296</td>\n",
              "      <td>296</td>\n",
              "      <td>Man</td>\n",
              "      <td>fear</td>\n",
              "      <td>indian</td>\n",
              "      <td>24</td>\n",
              "      <td>34</td>\n",
              "      <td>1</td>\n",
              "    </tr>\n",
              "    <tr>\n",
              "      <th>40</th>\n",
              "      <td>0</td>\n",
              "      <td>126</td>\n",
              "      <td>151</td>\n",
              "      <td>272</td>\n",
              "      <td>272</td>\n",
              "      <td>Man</td>\n",
              "      <td>neutral</td>\n",
              "      <td>white</td>\n",
              "      <td>31</td>\n",
              "      <td>35</td>\n",
              "      <td>0</td>\n",
              "    </tr>\n",
              "    <tr>\n",
              "      <th>42</th>\n",
              "      <td>0</td>\n",
              "      <td>121</td>\n",
              "      <td>142</td>\n",
              "      <td>271</td>\n",
              "      <td>271</td>\n",
              "      <td>Man</td>\n",
              "      <td>sad</td>\n",
              "      <td>middle eastern</td>\n",
              "      <td>32</td>\n",
              "      <td>36</td>\n",
              "      <td>0</td>\n",
              "    </tr>\n",
              "    <tr>\n",
              "      <th>48</th>\n",
              "      <td>0</td>\n",
              "      <td>135</td>\n",
              "      <td>135</td>\n",
              "      <td>282</td>\n",
              "      <td>282</td>\n",
              "      <td>Man</td>\n",
              "      <td>neutral</td>\n",
              "      <td>indian</td>\n",
              "      <td>33</td>\n",
              "      <td>40</td>\n",
              "      <td>0</td>\n",
              "    </tr>\n",
              "    <tr>\n",
              "      <th>50</th>\n",
              "      <td>0</td>\n",
              "      <td>707</td>\n",
              "      <td>183</td>\n",
              "      <td>108</td>\n",
              "      <td>108</td>\n",
              "      <td>Man</td>\n",
              "      <td>sad</td>\n",
              "      <td>indian</td>\n",
              "      <td>24</td>\n",
              "      <td>41</td>\n",
              "      <td>0</td>\n",
              "    </tr>\n",
              "    <tr>\n",
              "      <th>52</th>\n",
              "      <td>0</td>\n",
              "      <td>171</td>\n",
              "      <td>159</td>\n",
              "      <td>277</td>\n",
              "      <td>277</td>\n",
              "      <td>Man</td>\n",
              "      <td>neutral</td>\n",
              "      <td>indian</td>\n",
              "      <td>33</td>\n",
              "      <td>42</td>\n",
              "      <td>0</td>\n",
              "    </tr>\n",
              "    <tr>\n",
              "      <th>54</th>\n",
              "      <td>0</td>\n",
              "      <td>627</td>\n",
              "      <td>235</td>\n",
              "      <td>183</td>\n",
              "      <td>183</td>\n",
              "      <td>Man</td>\n",
              "      <td>fear</td>\n",
              "      <td>white</td>\n",
              "      <td>27</td>\n",
              "      <td>43</td>\n",
              "      <td>1</td>\n",
              "    </tr>\n",
              "    <tr>\n",
              "      <th>55</th>\n",
              "      <td>0</td>\n",
              "      <td>215</td>\n",
              "      <td>172</td>\n",
              "      <td>293</td>\n",
              "      <td>293</td>\n",
              "      <td>Man</td>\n",
              "      <td>sad</td>\n",
              "      <td>indian</td>\n",
              "      <td>32</td>\n",
              "      <td>44</td>\n",
              "      <td>0</td>\n",
              "    </tr>\n",
              "    <tr>\n",
              "      <th>58</th>\n",
              "      <td>0</td>\n",
              "      <td>247</td>\n",
              "      <td>174</td>\n",
              "      <td>288</td>\n",
              "      <td>288</td>\n",
              "      <td>Man</td>\n",
              "      <td>sad</td>\n",
              "      <td>indian</td>\n",
              "      <td>32</td>\n",
              "      <td>45</td>\n",
              "      <td>0</td>\n",
              "    </tr>\n",
              "    <tr>\n",
              "      <th>61</th>\n",
              "      <td>0</td>\n",
              "      <td>277</td>\n",
              "      <td>166</td>\n",
              "      <td>284</td>\n",
              "      <td>284</td>\n",
              "      <td>Man</td>\n",
              "      <td>neutral</td>\n",
              "      <td>indian</td>\n",
              "      <td>33</td>\n",
              "      <td>46</td>\n",
              "      <td>0</td>\n",
              "    </tr>\n",
              "    <tr>\n",
              "      <th>62</th>\n",
              "      <td>0</td>\n",
              "      <td>707</td>\n",
              "      <td>179</td>\n",
              "      <td>113</td>\n",
              "      <td>113</td>\n",
              "      <td>Man</td>\n",
              "      <td>sad</td>\n",
              "      <td>indian</td>\n",
              "      <td>24</td>\n",
              "      <td>47</td>\n",
              "      <td>1</td>\n",
              "    </tr>\n",
              "    <tr>\n",
              "      <th>63</th>\n",
              "      <td>0</td>\n",
              "      <td>313</td>\n",
              "      <td>146</td>\n",
              "      <td>293</td>\n",
              "      <td>293</td>\n",
              "      <td>Man</td>\n",
              "      <td>sad</td>\n",
              "      <td>indian</td>\n",
              "      <td>32</td>\n",
              "      <td>48</td>\n",
              "      <td>0</td>\n",
              "    </tr>\n",
              "    <tr>\n",
              "      <th>64</th>\n",
              "      <td>0</td>\n",
              "      <td>332</td>\n",
              "      <td>136</td>\n",
              "      <td>285</td>\n",
              "      <td>285</td>\n",
              "      <td>Man</td>\n",
              "      <td>neutral</td>\n",
              "      <td>indian</td>\n",
              "      <td>34</td>\n",
              "      <td>49</td>\n",
              "      <td>0</td>\n",
              "    </tr>\n",
              "    <tr>\n",
              "      <th>67</th>\n",
              "      <td>0</td>\n",
              "      <td>347</td>\n",
              "      <td>126</td>\n",
              "      <td>275</td>\n",
              "      <td>275</td>\n",
              "      <td>Man</td>\n",
              "      <td>neutral</td>\n",
              "      <td>indian</td>\n",
              "      <td>34</td>\n",
              "      <td>50</td>\n",
              "      <td>0</td>\n",
              "    </tr>\n",
              "    <tr>\n",
              "      <th>69</th>\n",
              "      <td>0</td>\n",
              "      <td>352</td>\n",
              "      <td>111</td>\n",
              "      <td>282</td>\n",
              "      <td>282</td>\n",
              "      <td>Man</td>\n",
              "      <td>neutral</td>\n",
              "      <td>indian</td>\n",
              "      <td>33</td>\n",
              "      <td>51</td>\n",
              "      <td>0</td>\n",
              "    </tr>\n",
              "  </tbody>\n",
              "</table>\n",
              "</div>\n",
              "      <button class=\"colab-df-convert\" onclick=\"convertToInteractive('df-66a9805a-2266-4bf4-a3f3-b1903c054b80')\"\n",
              "              title=\"Convert this dataframe to an interactive table.\"\n",
              "              style=\"display:none;\">\n",
              "        \n",
              "  <svg xmlns=\"http://www.w3.org/2000/svg\" height=\"24px\"viewBox=\"0 0 24 24\"\n",
              "       width=\"24px\">\n",
              "    <path d=\"M0 0h24v24H0V0z\" fill=\"none\"/>\n",
              "    <path d=\"M18.56 5.44l.94 2.06.94-2.06 2.06-.94-2.06-.94-.94-2.06-.94 2.06-2.06.94zm-11 1L8.5 8.5l.94-2.06 2.06-.94-2.06-.94L8.5 2.5l-.94 2.06-2.06.94zm10 10l.94 2.06.94-2.06 2.06-.94-2.06-.94-.94-2.06-.94 2.06-2.06.94z\"/><path d=\"M17.41 7.96l-1.37-1.37c-.4-.4-.92-.59-1.43-.59-.52 0-1.04.2-1.43.59L10.3 9.45l-7.72 7.72c-.78.78-.78 2.05 0 2.83L4 21.41c.39.39.9.59 1.41.59.51 0 1.02-.2 1.41-.59l7.78-7.78 2.81-2.81c.8-.78.8-2.07 0-2.86zM5.41 20L4 18.59l7.72-7.72 1.47 1.35L5.41 20z\"/>\n",
              "  </svg>\n",
              "      </button>\n",
              "      \n",
              "  <style>\n",
              "    .colab-df-container {\n",
              "      display:flex;\n",
              "      flex-wrap:wrap;\n",
              "      gap: 12px;\n",
              "    }\n",
              "\n",
              "    .colab-df-convert {\n",
              "      background-color: #E8F0FE;\n",
              "      border: none;\n",
              "      border-radius: 50%;\n",
              "      cursor: pointer;\n",
              "      display: none;\n",
              "      fill: #1967D2;\n",
              "      height: 32px;\n",
              "      padding: 0 0 0 0;\n",
              "      width: 32px;\n",
              "    }\n",
              "\n",
              "    .colab-df-convert:hover {\n",
              "      background-color: #E2EBFA;\n",
              "      box-shadow: 0px 1px 2px rgba(60, 64, 67, 0.3), 0px 1px 3px 1px rgba(60, 64, 67, 0.15);\n",
              "      fill: #174EA6;\n",
              "    }\n",
              "\n",
              "    [theme=dark] .colab-df-convert {\n",
              "      background-color: #3B4455;\n",
              "      fill: #D2E3FC;\n",
              "    }\n",
              "\n",
              "    [theme=dark] .colab-df-convert:hover {\n",
              "      background-color: #434B5C;\n",
              "      box-shadow: 0px 1px 3px 1px rgba(0, 0, 0, 0.15);\n",
              "      filter: drop-shadow(0px 1px 2px rgba(0, 0, 0, 0.3));\n",
              "      fill: #FFFFFF;\n",
              "    }\n",
              "  </style>\n",
              "\n",
              "      <script>\n",
              "        const buttonEl =\n",
              "          document.querySelector('#df-66a9805a-2266-4bf4-a3f3-b1903c054b80 button.colab-df-convert');\n",
              "        buttonEl.style.display =\n",
              "          google.colab.kernel.accessAllowed ? 'block' : 'none';\n",
              "\n",
              "        async function convertToInteractive(key) {\n",
              "          const element = document.querySelector('#df-66a9805a-2266-4bf4-a3f3-b1903c054b80');\n",
              "          const dataTable =\n",
              "            await google.colab.kernel.invokeFunction('convertToInteractive',\n",
              "                                                     [key], {});\n",
              "          if (!dataTable) return;\n",
              "\n",
              "          const docLinkHtml = 'Like what you see? Visit the ' +\n",
              "            '<a target=\"_blank\" href=https://colab.research.google.com/notebooks/data_table.ipynb>data table notebook</a>'\n",
              "            + ' to learn more about interactive tables.';\n",
              "          element.innerHTML = '';\n",
              "          dataTable['output_type'] = 'display_data';\n",
              "          await google.colab.output.renderOutput(dataTable, element);\n",
              "          const docLink = document.createElement('div');\n",
              "          docLink.innerHTML = docLinkHtml;\n",
              "          element.appendChild(docLink);\n",
              "        }\n",
              "      </script>\n",
              "    </div>\n",
              "  </div>\n",
              "  "
            ],
            "text/plain": [
              "    Face ID     X    Y    W    H Gender  Emotion             Race  Age  \\\n",
              "0         0   948   50  121  121    Man      sad   middle eastern   26   \n",
              "1         0   620  174  102  102  Woman    happy            white   28   \n",
              "4         0   266  213  205  205    Man  neutral  latino hispanic   27   \n",
              "5         0  1188  496   67   67    Man  neutral            white   26   \n",
              "6         0   209  194  228  228    Man  neutral  latino hispanic   32   \n",
              "7         0   194  189  222  222    Man    angry  latino hispanic   31   \n",
              "12        0   102  421  101  101    Man  neutral            white   24   \n",
              "26        0   598    8  281  281    Man  neutral           indian   25   \n",
              "28        0  1013   58  130  130    Man    angry   middle eastern   25   \n",
              "32        0   201  170  265  265    Man  neutral           indian   33   \n",
              "35        0   785    5  308  308    Man     fear           indian   24   \n",
              "36        0   823   14  315  315    Man     fear            black   23   \n",
              "37        0   148  170  270  270    Man  neutral           indian   33   \n",
              "39        0   904    7  296  296    Man     fear           indian   24   \n",
              "40        0   126  151  272  272    Man  neutral            white   31   \n",
              "42        0   121  142  271  271    Man      sad   middle eastern   32   \n",
              "48        0   135  135  282  282    Man  neutral           indian   33   \n",
              "50        0   707  183  108  108    Man      sad           indian   24   \n",
              "52        0   171  159  277  277    Man  neutral           indian   33   \n",
              "54        0   627  235  183  183    Man     fear            white   27   \n",
              "55        0   215  172  293  293    Man      sad           indian   32   \n",
              "58        0   247  174  288  288    Man      sad           indian   32   \n",
              "61        0   277  166  284  284    Man  neutral           indian   33   \n",
              "62        0   707  179  113  113    Man      sad           indian   24   \n",
              "63        0   313  146  293  293    Man      sad           indian   32   \n",
              "64        0   332  136  285  285    Man  neutral           indian   34   \n",
              "67        0   347  126  275  275    Man  neutral           indian   34   \n",
              "69        0   352  111  282  282    Man  neutral           indian   33   \n",
              "\n",
              "    Frame No  Suspecious  \n",
              "0          1           1  \n",
              "1          1           0  \n",
              "4          3           1  \n",
              "5          4           1  \n",
              "6          5           0  \n",
              "7          6           0  \n",
              "12        10           1  \n",
              "26        23           0  \n",
              "28        25           0  \n",
              "32        29           0  \n",
              "35        31           1  \n",
              "36        32           1  \n",
              "37        33           0  \n",
              "39        34           1  \n",
              "40        35           0  \n",
              "42        36           0  \n",
              "48        40           0  \n",
              "50        41           0  \n",
              "52        42           0  \n",
              "54        43           1  \n",
              "55        44           0  \n",
              "58        45           0  \n",
              "61        46           0  \n",
              "62        47           1  \n",
              "63        48           0  \n",
              "64        49           0  \n",
              "67        50           0  \n",
              "69        51           0  "
            ]
          },
          "execution_count": 20,
          "metadata": {},
          "output_type": "execute_result"
        }
      ],
      "source": [
        "df_csv.loc[df_csv['Face ID'] == 0]"
      ]
    },
    {
      "cell_type": "code",
      "execution_count": null,
      "metadata": {
        "colab": {
          "background_save": true
        },
        "id": "A-yxWsLNU9ng",
        "outputId": "ac9b7c29-8753-490d-b988-95cce32b6216"
      },
      "outputs": [
        {
          "data": {
            "text/plain": [
              "0    28\n",
              "2    17\n",
              "3    12\n",
              "4    11\n",
              "1     2\n",
              "5     1\n",
              "Name: Face ID, dtype: int64"
            ]
          },
          "execution_count": 21,
          "metadata": {},
          "output_type": "execute_result"
        }
      ],
      "source": [
        "df_csv[\"Face ID\"].value_counts()"
      ]
    },
    {
      "cell_type": "code",
      "execution_count": null,
      "metadata": {
        "colab": {
          "background_save": true
        },
        "id": "up1ItiWC0xYy",
        "outputId": "79f811d1-8fe4-406a-a1e9-76d63688d6ee"
      },
      "outputs": [
        {
          "name": "stdout",
          "output_type": "stream",
          "text": [
            "   Frame Count  Face ID\n",
            "0           28        0\n",
            "1           17        2\n",
            "2           12        3\n",
            "3           11        4\n",
            "4            2        1\n",
            "5            1        5\n"
          ]
        }
      ],
      "source": [
        "new_df = df_csv[\"Face ID\"].value_counts().rename_axis('index').to_frame('Frame Count')\n",
        "new_df['Face ID'] = new_df.index\n",
        "new_df.reset_index(drop=True, inplace=True)\n",
        "print (new_df)"
      ]
    },
    {
      "cell_type": "code",
      "execution_count": null,
      "metadata": {
        "colab": {
          "background_save": true
        },
        "id": "pBsjYdPTfrHF",
        "outputId": "c7ab5b4b-2712-46d1-b05b-24aa48544bed"
      },
      "outputs": [
        {
          "data": {
            "text/html": [
              "\n",
              "  <div id=\"df-7c4a1cd7-3b18-47cd-8b52-d197ee4f0af6\">\n",
              "    <div class=\"colab-df-container\">\n",
              "      <div>\n",
              "<style scoped>\n",
              "    .dataframe tbody tr th:only-of-type {\n",
              "        vertical-align: middle;\n",
              "    }\n",
              "\n",
              "    .dataframe tbody tr th {\n",
              "        vertical-align: top;\n",
              "    }\n",
              "\n",
              "    .dataframe thead th {\n",
              "        text-align: right;\n",
              "    }\n",
              "</style>\n",
              "<table border=\"1\" class=\"dataframe\">\n",
              "  <thead>\n",
              "    <tr style=\"text-align: right;\">\n",
              "      <th></th>\n",
              "      <th>Frame Count</th>\n",
              "      <th>Face ID</th>\n",
              "      <th>Time</th>\n",
              "    </tr>\n",
              "  </thead>\n",
              "  <tbody>\n",
              "    <tr>\n",
              "      <th>0</th>\n",
              "      <td>28</td>\n",
              "      <td>0</td>\n",
              "      <td>1.12</td>\n",
              "    </tr>\n",
              "    <tr>\n",
              "      <th>1</th>\n",
              "      <td>17</td>\n",
              "      <td>2</td>\n",
              "      <td>0.68</td>\n",
              "    </tr>\n",
              "    <tr>\n",
              "      <th>2</th>\n",
              "      <td>12</td>\n",
              "      <td>3</td>\n",
              "      <td>0.48</td>\n",
              "    </tr>\n",
              "    <tr>\n",
              "      <th>3</th>\n",
              "      <td>11</td>\n",
              "      <td>4</td>\n",
              "      <td>0.44</td>\n",
              "    </tr>\n",
              "    <tr>\n",
              "      <th>4</th>\n",
              "      <td>2</td>\n",
              "      <td>1</td>\n",
              "      <td>0.08</td>\n",
              "    </tr>\n",
              "    <tr>\n",
              "      <th>5</th>\n",
              "      <td>1</td>\n",
              "      <td>5</td>\n",
              "      <td>0.04</td>\n",
              "    </tr>\n",
              "  </tbody>\n",
              "</table>\n",
              "</div>\n",
              "      <button class=\"colab-df-convert\" onclick=\"convertToInteractive('df-7c4a1cd7-3b18-47cd-8b52-d197ee4f0af6')\"\n",
              "              title=\"Convert this dataframe to an interactive table.\"\n",
              "              style=\"display:none;\">\n",
              "        \n",
              "  <svg xmlns=\"http://www.w3.org/2000/svg\" height=\"24px\"viewBox=\"0 0 24 24\"\n",
              "       width=\"24px\">\n",
              "    <path d=\"M0 0h24v24H0V0z\" fill=\"none\"/>\n",
              "    <path d=\"M18.56 5.44l.94 2.06.94-2.06 2.06-.94-2.06-.94-.94-2.06-.94 2.06-2.06.94zm-11 1L8.5 8.5l.94-2.06 2.06-.94-2.06-.94L8.5 2.5l-.94 2.06-2.06.94zm10 10l.94 2.06.94-2.06 2.06-.94-2.06-.94-.94-2.06-.94 2.06-2.06.94z\"/><path d=\"M17.41 7.96l-1.37-1.37c-.4-.4-.92-.59-1.43-.59-.52 0-1.04.2-1.43.59L10.3 9.45l-7.72 7.72c-.78.78-.78 2.05 0 2.83L4 21.41c.39.39.9.59 1.41.59.51 0 1.02-.2 1.41-.59l7.78-7.78 2.81-2.81c.8-.78.8-2.07 0-2.86zM5.41 20L4 18.59l7.72-7.72 1.47 1.35L5.41 20z\"/>\n",
              "  </svg>\n",
              "      </button>\n",
              "      \n",
              "  <style>\n",
              "    .colab-df-container {\n",
              "      display:flex;\n",
              "      flex-wrap:wrap;\n",
              "      gap: 12px;\n",
              "    }\n",
              "\n",
              "    .colab-df-convert {\n",
              "      background-color: #E8F0FE;\n",
              "      border: none;\n",
              "      border-radius: 50%;\n",
              "      cursor: pointer;\n",
              "      display: none;\n",
              "      fill: #1967D2;\n",
              "      height: 32px;\n",
              "      padding: 0 0 0 0;\n",
              "      width: 32px;\n",
              "    }\n",
              "\n",
              "    .colab-df-convert:hover {\n",
              "      background-color: #E2EBFA;\n",
              "      box-shadow: 0px 1px 2px rgba(60, 64, 67, 0.3), 0px 1px 3px 1px rgba(60, 64, 67, 0.15);\n",
              "      fill: #174EA6;\n",
              "    }\n",
              "\n",
              "    [theme=dark] .colab-df-convert {\n",
              "      background-color: #3B4455;\n",
              "      fill: #D2E3FC;\n",
              "    }\n",
              "\n",
              "    [theme=dark] .colab-df-convert:hover {\n",
              "      background-color: #434B5C;\n",
              "      box-shadow: 0px 1px 3px 1px rgba(0, 0, 0, 0.15);\n",
              "      filter: drop-shadow(0px 1px 2px rgba(0, 0, 0, 0.3));\n",
              "      fill: #FFFFFF;\n",
              "    }\n",
              "  </style>\n",
              "\n",
              "      <script>\n",
              "        const buttonEl =\n",
              "          document.querySelector('#df-7c4a1cd7-3b18-47cd-8b52-d197ee4f0af6 button.colab-df-convert');\n",
              "        buttonEl.style.display =\n",
              "          google.colab.kernel.accessAllowed ? 'block' : 'none';\n",
              "\n",
              "        async function convertToInteractive(key) {\n",
              "          const element = document.querySelector('#df-7c4a1cd7-3b18-47cd-8b52-d197ee4f0af6');\n",
              "          const dataTable =\n",
              "            await google.colab.kernel.invokeFunction('convertToInteractive',\n",
              "                                                     [key], {});\n",
              "          if (!dataTable) return;\n",
              "\n",
              "          const docLinkHtml = 'Like what you see? Visit the ' +\n",
              "            '<a target=\"_blank\" href=https://colab.research.google.com/notebooks/data_table.ipynb>data table notebook</a>'\n",
              "            + ' to learn more about interactive tables.';\n",
              "          element.innerHTML = '';\n",
              "          dataTable['output_type'] = 'display_data';\n",
              "          await google.colab.output.renderOutput(dataTable, element);\n",
              "          const docLink = document.createElement('div');\n",
              "          docLink.innerHTML = docLinkHtml;\n",
              "          element.appendChild(docLink);\n",
              "        }\n",
              "      </script>\n",
              "    </div>\n",
              "  </div>\n",
              "  "
            ],
            "text/plain": [
              "   Frame Count  Face ID  Time\n",
              "0           28        0  1.12\n",
              "1           17        2  0.68\n",
              "2           12        3  0.48\n",
              "3           11        4  0.44\n",
              "4            2        1  0.08\n",
              "5            1        5  0.04"
            ]
          },
          "execution_count": 23,
          "metadata": {},
          "output_type": "execute_result"
        }
      ],
      "source": [
        "new_df['Time']=new_df['Frame Count']/fps\n",
        "new_df"
      ]
    },
    {
      "cell_type": "code",
      "execution_count": null,
      "metadata": {
        "colab": {
          "background_save": true
        },
        "id": "8D2BbdH3f6_n",
        "outputId": "da93c7c5-8d76-4d70-aed2-5ae044e6f105"
      },
      "outputs": [
        {
          "data": {
            "text/plain": [
              "Man    1\n",
              "Name: Gender, dtype: int64"
            ]
          },
          "execution_count": 24,
          "metadata": {},
          "output_type": "execute_result"
        }
      ],
      "source": [
        "df_csv[df_csv[\"Face ID\"]==5].Gender.value_counts()"
      ]
    },
    {
      "cell_type": "code",
      "execution_count": null,
      "metadata": {
        "colab": {
          "background_save": true
        },
        "id": "L-XMNnpMZRmd",
        "outputId": "18034021-ecb6-43f7-f6ba-98b5520ea2aa"
      },
      "outputs": [
        {
          "data": {
            "text/html": [
              "\n",
              "  <div id=\"df-cf5f00fe-707c-4802-b0e3-8e110d8a84e0\">\n",
              "    <div class=\"colab-df-container\">\n",
              "      <div>\n",
              "<style scoped>\n",
              "    .dataframe tbody tr th:only-of-type {\n",
              "        vertical-align: middle;\n",
              "    }\n",
              "\n",
              "    .dataframe tbody tr th {\n",
              "        vertical-align: top;\n",
              "    }\n",
              "\n",
              "    .dataframe thead th {\n",
              "        text-align: right;\n",
              "    }\n",
              "</style>\n",
              "<table border=\"1\" class=\"dataframe\">\n",
              "  <thead>\n",
              "    <tr style=\"text-align: right;\">\n",
              "      <th></th>\n",
              "      <th>Face ID</th>\n",
              "      <th>X</th>\n",
              "      <th>Y</th>\n",
              "      <th>W</th>\n",
              "      <th>H</th>\n",
              "      <th>Gender</th>\n",
              "      <th>Emotion</th>\n",
              "      <th>Race</th>\n",
              "      <th>Age</th>\n",
              "      <th>Frame No</th>\n",
              "      <th>Suspecious</th>\n",
              "    </tr>\n",
              "  </thead>\n",
              "  <tbody>\n",
              "    <tr>\n",
              "      <th>0</th>\n",
              "      <td>0</td>\n",
              "      <td>948</td>\n",
              "      <td>50</td>\n",
              "      <td>121</td>\n",
              "      <td>121</td>\n",
              "      <td>Man</td>\n",
              "      <td>sad</td>\n",
              "      <td>middle eastern</td>\n",
              "      <td>26</td>\n",
              "      <td>1</td>\n",
              "      <td>1</td>\n",
              "    </tr>\n",
              "    <tr>\n",
              "      <th>1</th>\n",
              "      <td>0</td>\n",
              "      <td>620</td>\n",
              "      <td>174</td>\n",
              "      <td>102</td>\n",
              "      <td>102</td>\n",
              "      <td>Woman</td>\n",
              "      <td>happy</td>\n",
              "      <td>white</td>\n",
              "      <td>28</td>\n",
              "      <td>1</td>\n",
              "      <td>0</td>\n",
              "    </tr>\n",
              "    <tr>\n",
              "      <th>2</th>\n",
              "      <td>1</td>\n",
              "      <td>285</td>\n",
              "      <td>207</td>\n",
              "      <td>203</td>\n",
              "      <td>203</td>\n",
              "      <td>Man</td>\n",
              "      <td>fear</td>\n",
              "      <td>middle eastern</td>\n",
              "      <td>28</td>\n",
              "      <td>2</td>\n",
              "      <td>1</td>\n",
              "    </tr>\n",
              "    <tr>\n",
              "      <th>3</th>\n",
              "      <td>1</td>\n",
              "      <td>285</td>\n",
              "      <td>207</td>\n",
              "      <td>203</td>\n",
              "      <td>203</td>\n",
              "      <td>Man</td>\n",
              "      <td>fear</td>\n",
              "      <td>middle eastern</td>\n",
              "      <td>28</td>\n",
              "      <td>2</td>\n",
              "      <td>1</td>\n",
              "    </tr>\n",
              "    <tr>\n",
              "      <th>4</th>\n",
              "      <td>0</td>\n",
              "      <td>266</td>\n",
              "      <td>213</td>\n",
              "      <td>205</td>\n",
              "      <td>205</td>\n",
              "      <td>Man</td>\n",
              "      <td>neutral</td>\n",
              "      <td>latino hispanic</td>\n",
              "      <td>27</td>\n",
              "      <td>3</td>\n",
              "      <td>1</td>\n",
              "    </tr>\n",
              "    <tr>\n",
              "      <th>...</th>\n",
              "      <td>...</td>\n",
              "      <td>...</td>\n",
              "      <td>...</td>\n",
              "      <td>...</td>\n",
              "      <td>...</td>\n",
              "      <td>...</td>\n",
              "      <td>...</td>\n",
              "      <td>...</td>\n",
              "      <td>...</td>\n",
              "      <td>...</td>\n",
              "      <td>...</td>\n",
              "    </tr>\n",
              "    <tr>\n",
              "      <th>66</th>\n",
              "      <td>5</td>\n",
              "      <td>810</td>\n",
              "      <td>63</td>\n",
              "      <td>160</td>\n",
              "      <td>160</td>\n",
              "      <td>Man</td>\n",
              "      <td>neutral</td>\n",
              "      <td>indian</td>\n",
              "      <td>31</td>\n",
              "      <td>50</td>\n",
              "      <td>0</td>\n",
              "    </tr>\n",
              "    <tr>\n",
              "      <th>67</th>\n",
              "      <td>0</td>\n",
              "      <td>347</td>\n",
              "      <td>126</td>\n",
              "      <td>275</td>\n",
              "      <td>275</td>\n",
              "      <td>Man</td>\n",
              "      <td>neutral</td>\n",
              "      <td>indian</td>\n",
              "      <td>34</td>\n",
              "      <td>50</td>\n",
              "      <td>0</td>\n",
              "    </tr>\n",
              "    <tr>\n",
              "      <th>68</th>\n",
              "      <td>4</td>\n",
              "      <td>347</td>\n",
              "      <td>126</td>\n",
              "      <td>275</td>\n",
              "      <td>275</td>\n",
              "      <td>Man</td>\n",
              "      <td>neutral</td>\n",
              "      <td>indian</td>\n",
              "      <td>34</td>\n",
              "      <td>50</td>\n",
              "      <td>0</td>\n",
              "    </tr>\n",
              "    <tr>\n",
              "      <th>69</th>\n",
              "      <td>0</td>\n",
              "      <td>352</td>\n",
              "      <td>111</td>\n",
              "      <td>282</td>\n",
              "      <td>282</td>\n",
              "      <td>Man</td>\n",
              "      <td>neutral</td>\n",
              "      <td>indian</td>\n",
              "      <td>33</td>\n",
              "      <td>51</td>\n",
              "      <td>0</td>\n",
              "    </tr>\n",
              "    <tr>\n",
              "      <th>70</th>\n",
              "      <td>4</td>\n",
              "      <td>352</td>\n",
              "      <td>111</td>\n",
              "      <td>282</td>\n",
              "      <td>282</td>\n",
              "      <td>Man</td>\n",
              "      <td>neutral</td>\n",
              "      <td>indian</td>\n",
              "      <td>33</td>\n",
              "      <td>51</td>\n",
              "      <td>0</td>\n",
              "    </tr>\n",
              "  </tbody>\n",
              "</table>\n",
              "<p>71 rows × 11 columns</p>\n",
              "</div>\n",
              "      <button class=\"colab-df-convert\" onclick=\"convertToInteractive('df-cf5f00fe-707c-4802-b0e3-8e110d8a84e0')\"\n",
              "              title=\"Convert this dataframe to an interactive table.\"\n",
              "              style=\"display:none;\">\n",
              "        \n",
              "  <svg xmlns=\"http://www.w3.org/2000/svg\" height=\"24px\"viewBox=\"0 0 24 24\"\n",
              "       width=\"24px\">\n",
              "    <path d=\"M0 0h24v24H0V0z\" fill=\"none\"/>\n",
              "    <path d=\"M18.56 5.44l.94 2.06.94-2.06 2.06-.94-2.06-.94-.94-2.06-.94 2.06-2.06.94zm-11 1L8.5 8.5l.94-2.06 2.06-.94-2.06-.94L8.5 2.5l-.94 2.06-2.06.94zm10 10l.94 2.06.94-2.06 2.06-.94-2.06-.94-.94-2.06-.94 2.06-2.06.94z\"/><path d=\"M17.41 7.96l-1.37-1.37c-.4-.4-.92-.59-1.43-.59-.52 0-1.04.2-1.43.59L10.3 9.45l-7.72 7.72c-.78.78-.78 2.05 0 2.83L4 21.41c.39.39.9.59 1.41.59.51 0 1.02-.2 1.41-.59l7.78-7.78 2.81-2.81c.8-.78.8-2.07 0-2.86zM5.41 20L4 18.59l7.72-7.72 1.47 1.35L5.41 20z\"/>\n",
              "  </svg>\n",
              "      </button>\n",
              "      \n",
              "  <style>\n",
              "    .colab-df-container {\n",
              "      display:flex;\n",
              "      flex-wrap:wrap;\n",
              "      gap: 12px;\n",
              "    }\n",
              "\n",
              "    .colab-df-convert {\n",
              "      background-color: #E8F0FE;\n",
              "      border: none;\n",
              "      border-radius: 50%;\n",
              "      cursor: pointer;\n",
              "      display: none;\n",
              "      fill: #1967D2;\n",
              "      height: 32px;\n",
              "      padding: 0 0 0 0;\n",
              "      width: 32px;\n",
              "    }\n",
              "\n",
              "    .colab-df-convert:hover {\n",
              "      background-color: #E2EBFA;\n",
              "      box-shadow: 0px 1px 2px rgba(60, 64, 67, 0.3), 0px 1px 3px 1px rgba(60, 64, 67, 0.15);\n",
              "      fill: #174EA6;\n",
              "    }\n",
              "\n",
              "    [theme=dark] .colab-df-convert {\n",
              "      background-color: #3B4455;\n",
              "      fill: #D2E3FC;\n",
              "    }\n",
              "\n",
              "    [theme=dark] .colab-df-convert:hover {\n",
              "      background-color: #434B5C;\n",
              "      box-shadow: 0px 1px 3px 1px rgba(0, 0, 0, 0.15);\n",
              "      filter: drop-shadow(0px 1px 2px rgba(0, 0, 0, 0.3));\n",
              "      fill: #FFFFFF;\n",
              "    }\n",
              "  </style>\n",
              "\n",
              "      <script>\n",
              "        const buttonEl =\n",
              "          document.querySelector('#df-cf5f00fe-707c-4802-b0e3-8e110d8a84e0 button.colab-df-convert');\n",
              "        buttonEl.style.display =\n",
              "          google.colab.kernel.accessAllowed ? 'block' : 'none';\n",
              "\n",
              "        async function convertToInteractive(key) {\n",
              "          const element = document.querySelector('#df-cf5f00fe-707c-4802-b0e3-8e110d8a84e0');\n",
              "          const dataTable =\n",
              "            await google.colab.kernel.invokeFunction('convertToInteractive',\n",
              "                                                     [key], {});\n",
              "          if (!dataTable) return;\n",
              "\n",
              "          const docLinkHtml = 'Like what you see? Visit the ' +\n",
              "            '<a target=\"_blank\" href=https://colab.research.google.com/notebooks/data_table.ipynb>data table notebook</a>'\n",
              "            + ' to learn more about interactive tables.';\n",
              "          element.innerHTML = '';\n",
              "          dataTable['output_type'] = 'display_data';\n",
              "          await google.colab.output.renderOutput(dataTable, element);\n",
              "          const docLink = document.createElement('div');\n",
              "          docLink.innerHTML = docLinkHtml;\n",
              "          element.appendChild(docLink);\n",
              "        }\n",
              "      </script>\n",
              "    </div>\n",
              "  </div>\n",
              "  "
            ],
            "text/plain": [
              "    Face ID    X    Y    W    H Gender  Emotion             Race  Age  \\\n",
              "0         0  948   50  121  121    Man      sad   middle eastern   26   \n",
              "1         0  620  174  102  102  Woman    happy            white   28   \n",
              "2         1  285  207  203  203    Man     fear   middle eastern   28   \n",
              "3         1  285  207  203  203    Man     fear   middle eastern   28   \n",
              "4         0  266  213  205  205    Man  neutral  latino hispanic   27   \n",
              "..      ...  ...  ...  ...  ...    ...      ...              ...  ...   \n",
              "66        5  810   63  160  160    Man  neutral           indian   31   \n",
              "67        0  347  126  275  275    Man  neutral           indian   34   \n",
              "68        4  347  126  275  275    Man  neutral           indian   34   \n",
              "69        0  352  111  282  282    Man  neutral           indian   33   \n",
              "70        4  352  111  282  282    Man  neutral           indian   33   \n",
              "\n",
              "    Frame No  Suspecious  \n",
              "0          1           1  \n",
              "1          1           0  \n",
              "2          2           1  \n",
              "3          2           1  \n",
              "4          3           1  \n",
              "..       ...         ...  \n",
              "66        50           0  \n",
              "67        50           0  \n",
              "68        50           0  \n",
              "69        51           0  \n",
              "70        51           0  \n",
              "\n",
              "[71 rows x 11 columns]"
            ]
          },
          "execution_count": 25,
          "metadata": {},
          "output_type": "execute_result"
        }
      ],
      "source": [
        "df_csv"
      ]
    },
    {
      "cell_type": "code",
      "execution_count": null,
      "metadata": {
        "colab": {
          "background_save": true
        },
        "id": "GP56c4F6oZ0z"
      },
      "outputs": [],
      "source": [
        "thresold_suspecious_count=5\n",
        "\n",
        "def get_mode(id,col):\n",
        "  #print(df_csv[df_csv[\"Face ID\"]==id]['Gender'].value_counts().index.tolist()[0])\n",
        "  return df_csv[df_csv[\"Face ID\"]==id][col].value_counts().index.tolist()[0]\n",
        "\n",
        "def get_suspecious(id,col):\n",
        "  values = df_csv[df_csv[\"Face ID\"]==id]['Suspecious'].value_counts(dropna=False).keys().tolist()\n",
        "  counts = df_csv[df_csv[\"Face ID\"]==id]['Suspecious'].value_counts(dropna=False).tolist()\n",
        "  value_dict = dict(zip(values, counts))\n",
        "  #print(value_dict)\n",
        "  if len(value_dict)>1:\n",
        "        if value_dict[1]>thresold_suspecious_count:\n",
        "          return 1\n",
        "        else:\n",
        "          return 0\n",
        "  else:\n",
        "        return 0\n",
        "\n",
        "  #return df_csv[df_csv[\"Face ID\"]==id][col].value_counts().index.tolist() \n",
        "   \n",
        "\n",
        "# Because remember `apply` takes a function that gets a row (or column) passed to it\n",
        "new_df[\"Gender\"] = new_df.apply(lambda row: get_mode(int(row[\"Face ID\"]),\"Gender\"),axis=1)\n",
        "new_df[\"Emotion\"] = new_df.apply(lambda row: get_mode(int(row[\"Face ID\"]),\"Emotion\"),axis=1)\n",
        "new_df[\"Race\"] = new_df.apply(lambda row: get_mode(int(row[\"Face ID\"]),\"Race\"),axis=1)\n",
        "new_df[\"Age\"] = new_df.apply(lambda row: get_mode(int(row[\"Face ID\"]),\"Age\"),axis=1)\n",
        "new_df[\"Suspecious\"] = new_df.apply(lambda row: get_suspecious(int(row[\"Face ID\"]),\"Suspecious\"),axis=1)"
      ]
    },
    {
      "cell_type": "code",
      "execution_count": null,
      "metadata": {
        "colab": {
          "background_save": true
        },
        "id": "P6JGdeK2rPOr",
        "outputId": "2e6394d4-f031-4acb-bd14-c22ca8ef58c0"
      },
      "outputs": [
        {
          "data": {
            "text/html": [
              "\n",
              "  <div id=\"df-4d3d04f3-596f-484d-b259-da45035ec91b\">\n",
              "    <div class=\"colab-df-container\">\n",
              "      <div>\n",
              "<style scoped>\n",
              "    .dataframe tbody tr th:only-of-type {\n",
              "        vertical-align: middle;\n",
              "    }\n",
              "\n",
              "    .dataframe tbody tr th {\n",
              "        vertical-align: top;\n",
              "    }\n",
              "\n",
              "    .dataframe thead th {\n",
              "        text-align: right;\n",
              "    }\n",
              "</style>\n",
              "<table border=\"1\" class=\"dataframe\">\n",
              "  <thead>\n",
              "    <tr style=\"text-align: right;\">\n",
              "      <th></th>\n",
              "      <th>Frame Count</th>\n",
              "      <th>Face ID</th>\n",
              "      <th>Time</th>\n",
              "      <th>Gender</th>\n",
              "      <th>Emotion</th>\n",
              "      <th>Race</th>\n",
              "      <th>Age</th>\n",
              "      <th>Suspecious</th>\n",
              "    </tr>\n",
              "  </thead>\n",
              "  <tbody>\n",
              "    <tr>\n",
              "      <th>0</th>\n",
              "      <td>28</td>\n",
              "      <td>0</td>\n",
              "      <td>1.12</td>\n",
              "      <td>Man</td>\n",
              "      <td>neutral</td>\n",
              "      <td>indian</td>\n",
              "      <td>33</td>\n",
              "      <td>1</td>\n",
              "    </tr>\n",
              "    <tr>\n",
              "      <th>1</th>\n",
              "      <td>17</td>\n",
              "      <td>2</td>\n",
              "      <td>0.68</td>\n",
              "      <td>Man</td>\n",
              "      <td>angry</td>\n",
              "      <td>indian</td>\n",
              "      <td>33</td>\n",
              "      <td>0</td>\n",
              "    </tr>\n",
              "    <tr>\n",
              "      <th>2</th>\n",
              "      <td>12</td>\n",
              "      <td>3</td>\n",
              "      <td>0.48</td>\n",
              "      <td>Man</td>\n",
              "      <td>neutral</td>\n",
              "      <td>indian</td>\n",
              "      <td>31</td>\n",
              "      <td>0</td>\n",
              "    </tr>\n",
              "    <tr>\n",
              "      <th>3</th>\n",
              "      <td>11</td>\n",
              "      <td>4</td>\n",
              "      <td>0.44</td>\n",
              "      <td>Man</td>\n",
              "      <td>neutral</td>\n",
              "      <td>indian</td>\n",
              "      <td>35</td>\n",
              "      <td>0</td>\n",
              "    </tr>\n",
              "    <tr>\n",
              "      <th>4</th>\n",
              "      <td>2</td>\n",
              "      <td>1</td>\n",
              "      <td>0.08</td>\n",
              "      <td>Man</td>\n",
              "      <td>fear</td>\n",
              "      <td>middle eastern</td>\n",
              "      <td>28</td>\n",
              "      <td>0</td>\n",
              "    </tr>\n",
              "    <tr>\n",
              "      <th>5</th>\n",
              "      <td>1</td>\n",
              "      <td>5</td>\n",
              "      <td>0.04</td>\n",
              "      <td>Man</td>\n",
              "      <td>neutral</td>\n",
              "      <td>indian</td>\n",
              "      <td>31</td>\n",
              "      <td>0</td>\n",
              "    </tr>\n",
              "  </tbody>\n",
              "</table>\n",
              "</div>\n",
              "      <button class=\"colab-df-convert\" onclick=\"convertToInteractive('df-4d3d04f3-596f-484d-b259-da45035ec91b')\"\n",
              "              title=\"Convert this dataframe to an interactive table.\"\n",
              "              style=\"display:none;\">\n",
              "        \n",
              "  <svg xmlns=\"http://www.w3.org/2000/svg\" height=\"24px\"viewBox=\"0 0 24 24\"\n",
              "       width=\"24px\">\n",
              "    <path d=\"M0 0h24v24H0V0z\" fill=\"none\"/>\n",
              "    <path d=\"M18.56 5.44l.94 2.06.94-2.06 2.06-.94-2.06-.94-.94-2.06-.94 2.06-2.06.94zm-11 1L8.5 8.5l.94-2.06 2.06-.94-2.06-.94L8.5 2.5l-.94 2.06-2.06.94zm10 10l.94 2.06.94-2.06 2.06-.94-2.06-.94-.94-2.06-.94 2.06-2.06.94z\"/><path d=\"M17.41 7.96l-1.37-1.37c-.4-.4-.92-.59-1.43-.59-.52 0-1.04.2-1.43.59L10.3 9.45l-7.72 7.72c-.78.78-.78 2.05 0 2.83L4 21.41c.39.39.9.59 1.41.59.51 0 1.02-.2 1.41-.59l7.78-7.78 2.81-2.81c.8-.78.8-2.07 0-2.86zM5.41 20L4 18.59l7.72-7.72 1.47 1.35L5.41 20z\"/>\n",
              "  </svg>\n",
              "      </button>\n",
              "      \n",
              "  <style>\n",
              "    .colab-df-container {\n",
              "      display:flex;\n",
              "      flex-wrap:wrap;\n",
              "      gap: 12px;\n",
              "    }\n",
              "\n",
              "    .colab-df-convert {\n",
              "      background-color: #E8F0FE;\n",
              "      border: none;\n",
              "      border-radius: 50%;\n",
              "      cursor: pointer;\n",
              "      display: none;\n",
              "      fill: #1967D2;\n",
              "      height: 32px;\n",
              "      padding: 0 0 0 0;\n",
              "      width: 32px;\n",
              "    }\n",
              "\n",
              "    .colab-df-convert:hover {\n",
              "      background-color: #E2EBFA;\n",
              "      box-shadow: 0px 1px 2px rgba(60, 64, 67, 0.3), 0px 1px 3px 1px rgba(60, 64, 67, 0.15);\n",
              "      fill: #174EA6;\n",
              "    }\n",
              "\n",
              "    [theme=dark] .colab-df-convert {\n",
              "      background-color: #3B4455;\n",
              "      fill: #D2E3FC;\n",
              "    }\n",
              "\n",
              "    [theme=dark] .colab-df-convert:hover {\n",
              "      background-color: #434B5C;\n",
              "      box-shadow: 0px 1px 3px 1px rgba(0, 0, 0, 0.15);\n",
              "      filter: drop-shadow(0px 1px 2px rgba(0, 0, 0, 0.3));\n",
              "      fill: #FFFFFF;\n",
              "    }\n",
              "  </style>\n",
              "\n",
              "      <script>\n",
              "        const buttonEl =\n",
              "          document.querySelector('#df-4d3d04f3-596f-484d-b259-da45035ec91b button.colab-df-convert');\n",
              "        buttonEl.style.display =\n",
              "          google.colab.kernel.accessAllowed ? 'block' : 'none';\n",
              "\n",
              "        async function convertToInteractive(key) {\n",
              "          const element = document.querySelector('#df-4d3d04f3-596f-484d-b259-da45035ec91b');\n",
              "          const dataTable =\n",
              "            await google.colab.kernel.invokeFunction('convertToInteractive',\n",
              "                                                     [key], {});\n",
              "          if (!dataTable) return;\n",
              "\n",
              "          const docLinkHtml = 'Like what you see? Visit the ' +\n",
              "            '<a target=\"_blank\" href=https://colab.research.google.com/notebooks/data_table.ipynb>data table notebook</a>'\n",
              "            + ' to learn more about interactive tables.';\n",
              "          element.innerHTML = '';\n",
              "          dataTable['output_type'] = 'display_data';\n",
              "          await google.colab.output.renderOutput(dataTable, element);\n",
              "          const docLink = document.createElement('div');\n",
              "          docLink.innerHTML = docLinkHtml;\n",
              "          element.appendChild(docLink);\n",
              "        }\n",
              "      </script>\n",
              "    </div>\n",
              "  </div>\n",
              "  "
            ],
            "text/plain": [
              "   Frame Count  Face ID  Time Gender  Emotion            Race  Age  Suspecious\n",
              "0           28        0  1.12    Man  neutral          indian   33           1\n",
              "1           17        2  0.68    Man    angry          indian   33           0\n",
              "2           12        3  0.48    Man  neutral          indian   31           0\n",
              "3           11        4  0.44    Man  neutral          indian   35           0\n",
              "4            2        1  0.08    Man     fear  middle eastern   28           0\n",
              "5            1        5  0.04    Man  neutral          indian   31           0"
            ]
          },
          "execution_count": 27,
          "metadata": {},
          "output_type": "execute_result"
        }
      ],
      "source": [
        "new_df"
      ]
    },
    {
      "cell_type": "code",
      "execution_count": null,
      "metadata": {
        "colab": {
          "background_save": true
        },
        "id": "mgebIddr1NXh"
      },
      "outputs": [],
      "source": [
        "df.to_csv('/content/drive/MyDrive/11111/processed.csv', index=False)"
      ]
    },
    {
      "cell_type": "markdown",
      "metadata": {
        "id": "k7yGm22M1vOd"
      },
      "source": [
        "## Starting Model Trainning from here"
      ]
    },
    {
      "cell_type": "code",
      "execution_count": null,
      "metadata": {
        "colab": {
          "background_save": true
        },
        "id": "DJX_eO_3AH7i",
        "outputId": "8ddd05e6-86d1-4025-a242-a3dfa3149e08"
      },
      "outputs": [
        {
          "name": "stderr",
          "output_type": "stream",
          "text": [
            "Action: race: 100%|██████████| 4/4 [00:03<00:00,  1.33it/s]\n",
            "Action: race: 100%|██████████| 4/4 [00:01<00:00,  2.22it/s]\n",
            "Action: race: 100%|██████████| 4/4 [00:01<00:00,  2.26it/s]\n",
            "Action: race: 100%|██████████| 4/4 [00:01<00:00,  2.26it/s]\n",
            "Action: race: 100%|██████████| 4/4 [00:01<00:00,  2.26it/s]\n",
            "Action: race: 100%|██████████| 4/4 [00:02<00:00,  1.40it/s]\n",
            "Action: race: 100%|██████████| 4/4 [00:01<00:00,  2.06it/s]\n"
          ]
        },
        {
          "name": "stdout",
          "output_type": "stream",
          "text": [
            "Face could not be detected. Please confirm that the picture is a face photo or consider to set enforce_detection param to False.\n"
          ]
        },
        {
          "name": "stderr",
          "output_type": "stream",
          "text": [
            "Action: race: 100%|██████████| 4/4 [00:01<00:00,  2.22it/s]\n",
            "Action: race: 100%|██████████| 4/4 [00:01<00:00,  2.24it/s]\n",
            "Action: race: 100%|██████████| 4/4 [00:01<00:00,  2.20it/s]\n"
          ]
        },
        {
          "name": "stdout",
          "output_type": "stream",
          "text": [
            "Face could not be detected. Please confirm that the picture is a face photo or consider to set enforce_detection param to False.\n",
            "Face could not be detected. Please confirm that the picture is a face photo or consider to set enforce_detection param to False.\n"
          ]
        },
        {
          "name": "stderr",
          "output_type": "stream",
          "text": [
            "Action: race: 100%|██████████| 4/4 [00:02<00:00,  1.59it/s]\n",
            "Action: race: 100%|██████████| 4/4 [00:02<00:00,  1.79it/s]\n",
            "Action: race: 100%|██████████| 4/4 [00:01<00:00,  2.21it/s]\n",
            "Action: race: 100%|██████████| 4/4 [00:01<00:00,  2.22it/s]\n",
            "Action: race: 100%|██████████| 4/4 [00:01<00:00,  2.23it/s]\n",
            "Action: race: 100%|██████████| 4/4 [00:01<00:00,  2.22it/s]\n",
            "Action: race: 100%|██████████| 4/4 [00:02<00:00,  1.35it/s]\n",
            "Action: race: 100%|██████████| 4/4 [00:01<00:00,  2.20it/s]\n",
            "Action: race: 100%|██████████| 4/4 [00:01<00:00,  2.22it/s]\n",
            "Action: race: 100%|██████████| 4/4 [00:01<00:00,  2.20it/s]\n",
            "Action: race: 100%|██████████| 4/4 [00:01<00:00,  2.20it/s]\n",
            "Action: race: 100%|██████████| 4/4 [00:02<00:00,  1.40it/s]\n",
            "Action: race: 100%|██████████| 4/4 [00:01<00:00,  2.03it/s]\n",
            "Action: race: 100%|██████████| 4/4 [00:01<00:00,  2.17it/s]\n",
            "Action: race: 100%|██████████| 4/4 [00:01<00:00,  2.25it/s]\n",
            "Action: race: 100%|██████████| 4/4 [00:01<00:00,  2.20it/s]\n",
            "Action: race: 100%|██████████| 4/4 [00:02<00:00,  1.93it/s]\n",
            "Action: race: 100%|██████████| 4/4 [00:02<00:00,  1.48it/s]\n",
            "Action: race: 100%|██████████| 4/4 [00:01<00:00,  2.24it/s]\n",
            "Action: race: 100%|██████████| 4/4 [00:01<00:00,  2.20it/s]\n",
            "Action: race: 100%|██████████| 4/4 [00:01<00:00,  2.25it/s]\n"
          ]
        },
        {
          "name": "stdout",
          "output_type": "stream",
          "text": [
            "Face could not be detected. Please confirm that the picture is a face photo or consider to set enforce_detection param to False.\n"
          ]
        },
        {
          "name": "stderr",
          "output_type": "stream",
          "text": [
            "Action: race: 100%|██████████| 4/4 [00:01<00:00,  2.20it/s]\n",
            "Action: race: 100%|██████████| 4/4 [00:02<00:00,  1.41it/s]\n",
            "Action: race: 100%|██████████| 4/4 [00:01<00:00,  2.22it/s]\n",
            "Action: race: 100%|██████████| 4/4 [00:01<00:00,  2.21it/s]\n",
            "Action: race: 100%|██████████| 4/4 [00:01<00:00,  2.24it/s]\n",
            "Action: race: 100%|██████████| 4/4 [00:01<00:00,  2.23it/s]\n",
            "Action: race: 100%|██████████| 4/4 [00:02<00:00,  1.37it/s]\n",
            "Action: race: 100%|██████████| 4/4 [00:01<00:00,  2.15it/s]\n",
            "Action: race: 100%|██████████| 4/4 [00:01<00:00,  2.21it/s]\n",
            "Action: race: 100%|██████████| 4/4 [00:01<00:00,  2.24it/s]\n",
            "Action: race: 100%|██████████| 4/4 [00:01<00:00,  2.22it/s]\n",
            "Action: race: 100%|██████████| 4/4 [00:02<00:00,  1.75it/s]\n"
          ]
        },
        {
          "name": "stdout",
          "output_type": "stream",
          "text": [
            "Face could not be detected. Please confirm that the picture is a face photo or consider to set enforce_detection param to False.\n"
          ]
        },
        {
          "name": "stderr",
          "output_type": "stream",
          "text": [
            "Action: race: 100%|██████████| 4/4 [00:02<00:00,  1.64it/s]\n",
            "Action: race: 100%|██████████| 4/4 [00:01<00:00,  2.25it/s]\n"
          ]
        },
        {
          "name": "stdout",
          "output_type": "stream",
          "text": [
            "Face could not be detected. Please confirm that the picture is a face photo or consider to set enforce_detection param to False.\n"
          ]
        },
        {
          "name": "stderr",
          "output_type": "stream",
          "text": [
            "Action: race: 100%|██████████| 4/4 [00:01<00:00,  2.20it/s]\n",
            "Action: race: 100%|██████████| 4/4 [00:01<00:00,  2.25it/s]\n",
            "Action: race: 100%|██████████| 4/4 [00:02<00:00,  1.91it/s]\n"
          ]
        },
        {
          "name": "stdout",
          "output_type": "stream",
          "text": [
            "Face could not be detected. Please confirm that the picture is a face photo or consider to set enforce_detection param to False.\n",
            "Face could not be detected. Please confirm that the picture is a face photo or consider to set enforce_detection param to False.\n"
          ]
        },
        {
          "name": "stderr",
          "output_type": "stream",
          "text": [
            "Action: race: 100%|██████████| 4/4 [00:02<00:00,  1.70it/s]\n",
            "Action: race: 100%|██████████| 4/4 [00:01<00:00,  2.08it/s]\n"
          ]
        },
        {
          "name": "stdout",
          "output_type": "stream",
          "text": [
            "Face could not be detected. Please confirm that the picture is a face photo or consider to set enforce_detection param to False.\n",
            "Face could not be detected. Please confirm that the picture is a face photo or consider to set enforce_detection param to False.\n"
          ]
        },
        {
          "name": "stderr",
          "output_type": "stream",
          "text": [
            "Action: race: 100%|██████████| 4/4 [00:02<00:00,  1.51it/s]\n",
            "Action: race: 100%|██████████| 4/4 [00:01<00:00,  2.24it/s]\n",
            "Action: race: 100%|██████████| 4/4 [00:02<00:00,  1.41it/s]\n",
            "Action: race: 100%|██████████| 4/4 [00:01<00:00,  2.22it/s]\n",
            "Action: race: 100%|██████████| 4/4 [00:01<00:00,  2.22it/s]\n",
            "Action: race: 100%|██████████| 4/4 [00:01<00:00,  2.26it/s]\n",
            "Action: race: 100%|██████████| 4/4 [00:01<00:00,  2.24it/s]\n",
            "Action: race: 100%|██████████| 4/4 [00:02<00:00,  1.71it/s]\n",
            "Action: race: 100%|██████████| 4/4 [00:02<00:00,  1.67it/s]\n"
          ]
        },
        {
          "name": "stdout",
          "output_type": "stream",
          "text": [
            "Face could not be detected. Please confirm that the picture is a face photo or consider to set enforce_detection param to False.\n"
          ]
        },
        {
          "name": "stderr",
          "output_type": "stream",
          "text": [
            "Action: race: 100%|██████████| 4/4 [00:01<00:00,  2.23it/s]\n",
            "Action: race: 100%|██████████| 4/4 [00:01<00:00,  2.25it/s]\n",
            "Action: race: 100%|██████████| 4/4 [00:01<00:00,  2.17it/s]\n",
            "Action: race: 100%|██████████| 4/4 [00:02<00:00,  1.81it/s]\n",
            "Action: race: 100%|██████████| 4/4 [00:02<00:00,  1.59it/s]\n"
          ]
        },
        {
          "name": "stdout",
          "output_type": "stream",
          "text": [
            "Face could not be detected. Please confirm that the picture is a face photo or consider to set enforce_detection param to False.\n"
          ]
        },
        {
          "name": "stderr",
          "output_type": "stream",
          "text": [
            "Action: race: 100%|██████████| 4/4 [00:01<00:00,  2.23it/s]\n",
            "Action: race: 100%|██████████| 4/4 [00:01<00:00,  2.21it/s]\n",
            "Action: race: 100%|██████████| 4/4 [00:01<00:00,  2.21it/s]\n",
            "Action: race: 100%|██████████| 4/4 [00:02<00:00,  1.81it/s]\n"
          ]
        },
        {
          "name": "stdout",
          "output_type": "stream",
          "text": [
            "Face could not be detected. Please confirm that the picture is a face photo or consider to set enforce_detection param to False.\n"
          ]
        }
      ],
      "source": [
        "## for data preparation\n",
        "folder='/content/drive/MyDrive/11111/suspecious'\n",
        "i=0\n",
        "for filename in os.listdir(folder):\n",
        "    img = cv2.imread(os.path.join(folder,filename))\n",
        "    if img is not None:\n",
        "        try:\n",
        "          objs = DeepFace.analyze(img)\n",
        "          for obj in objs:\n",
        "            #print(obj)\n",
        "            x,y,w,h=obj['region']['x'],obj['region']['y'],obj['region']['w'],obj['region']['h']\n",
        "            # Crop the face from the image\n",
        "            cropped_img = img[y:y + h, x:x + w]\n",
        "            resize_image = cv2.resize(cropped_img, (224, 224))\n",
        "            cv2.imwrite(f'/content/drive/MyDrive/11111/dataset/suspecious/{i}.jpg',resize_image)\n",
        "            i+=1\n",
        "            #cv2_imshow(cropped_img)\n",
        "            \n",
        "        except Exception as e:\n",
        "          print(str(e))\n",
        "      \n",
        "     "
      ]
    },
    {
      "cell_type": "code",
      "execution_count": null,
      "metadata": {
        "colab": {
          "background_save": true
        },
        "id": "ru7KZM3WwwxS"
      },
      "outputs": [],
      "source": [
        "import tensorflow as tf\n",
        "\n",
        "import glob\n",
        "from tqdm._tqdm_notebook import tqdm_notebook as tqdm\n",
        "\n",
        "from sklearn import preprocessing\n",
        "from sklearn.model_selection import train_test_split\n",
        "from keras.models import Sequential\n",
        "from keras.layers import Convolution2D, Dropout, Dense,MaxPooling2D\n",
        "from keras.layers import BatchNormalization\n",
        "from keras.layers import MaxPooling2D\n",
        "from keras.layers import Flatten\n",
        "\n",
        "from keras.models import Sequential\n",
        "from keras.layers import Dense, Dropout, Activation, Flatten, GlobalAveragePooling2D\n",
        "from keras.layers import Conv2D, MaxPooling2D, ZeroPadding2D\n",
        "\n",
        "from keras.models import Model\n",
        "from tensorflow.keras.models import Model\n",
        "\n",
        "import matplotlib.pyplot as plt\n",
        "from keras.applications import vgg16"
      ]
    },
    {
      "cell_type": "code",
      "execution_count": null,
      "metadata": {
        "colab": {
          "background_save": true
        },
        "id": "wNpWwG5Xyyq_"
      },
      "outputs": [],
      "source": [
        "X = []\n",
        "y = []\n",
        "folder_nonsuspecious='/content/drive/MyDrive/11111/dataset/nonsuspecious'\n",
        "folder_suspecious='/content/drive/MyDrive/11111/dataset/suspecious'\n"
      ]
    },
    {
      "cell_type": "code",
      "execution_count": null,
      "metadata": {
        "colab": {
          "background_save": true
        },
        "id": "80PiA0Bwxk4I",
        "outputId": "8f6d114f-a016-4d33-9115-561a3460963d"
      },
      "outputs": [
        {
          "name": "stdout",
          "output_type": "stream",
          "text": [
            "X : 245, y : 245\n"
          ]
        }
      ],
      "source": [
        "\n",
        "for filename in os.listdir(folder_nonsuspecious):\n",
        "    img = cv2.imread(os.path.join(folder_nonsuspecious,filename))\n",
        "    img = cv2.resize(img,(224,224))\n",
        "    X.append(img)\n",
        "    y.append('N')\n",
        "\n",
        "    #vertical flip\n",
        "    img_flip_ud = cv2.flip(img, 0)\n",
        "    X.append(img_flip_ud)\n",
        "    y.append('N')\n",
        "\n",
        "    #horizontal flip\n",
        "    img_flip_lr = cv2.flip(img, 1)\n",
        "    X.append(img_flip_lr)\n",
        "    y.append('N')\n",
        "\n",
        "    #ROTATE_90_CLOCKWISE\n",
        "    img_rotate_90_clockwise = cv2.rotate(img, cv2.ROTATE_90_CLOCKWISE)\n",
        "    X.append(img_rotate_90_clockwise)\n",
        "    y.append('N')\n",
        "\n",
        "    #ROTATE_90_COUNTERCLOCKWISE\n",
        "    img_rotate_90_counterclockwise = cv2.rotate(img, cv2.ROTATE_90_COUNTERCLOCKWISE)\n",
        "    X.append(img_rotate_90_counterclockwise)\n",
        "    y.append('N')\n",
        "\n",
        "    #ROTATE_180\n",
        "    img_rotate_180 = cv2.rotate(img, cv2.ROTATE_180)\n",
        "    X.append(img_rotate_180)\n",
        "    y.append('N')\n",
        "\n",
        "    #gaussian_blur\n",
        "    img_gaussian_blur = cv2.GaussianBlur(img,(5,5),0)\n",
        "    X.append(img_gaussian_blur)\n",
        "    y.append('N')\n",
        "\n",
        "print(f'X : {len(X)}, y : {len(y)}')    "
      ]
    },
    {
      "cell_type": "code",
      "execution_count": null,
      "metadata": {
        "colab": {
          "background_save": true
        },
        "id": "XEBs5I_Vz2F-",
        "outputId": "56a2c00c-360a-40bd-e86f-6f671c614c3b"
      },
      "outputs": [
        {
          "name": "stdout",
          "output_type": "stream",
          "text": [
            "X : 721, y : 721\n"
          ]
        }
      ],
      "source": [
        "for filename in os.listdir(folder_suspecious):\n",
        "    #print(os.path.join(folder_suspecious,filename))\n",
        "    img = cv2.imread(os.path.join(folder_suspecious,filename))\n",
        "    #print(img.shape)\n",
        "    #cv2_imshow(img)\n",
        "    img = cv2.resize(img,(224,224))\n",
        "    X.append(img)\n",
        "    y.append('Y')\n",
        "\n",
        "    #vertical flip\n",
        "    img_flip_ud = cv2.flip(img, 0)\n",
        "    X.append(img_flip_ud)\n",
        "    y.append('Y')\n",
        "\n",
        "    #horizontal flip\n",
        "    img_flip_lr = cv2.flip(img, 1)\n",
        "    X.append(img_flip_lr)\n",
        "    y.append('Y')\n",
        "\n",
        "    #ROTATE_90_CLOCKWISE\n",
        "    img_rotate_90_clockwise = cv2.rotate(img, cv2.ROTATE_90_CLOCKWISE)\n",
        "    X.append(img_rotate_90_clockwise)\n",
        "    y.append('Y')\n",
        "\n",
        "    #ROTATE_90_COUNTERCLOCKWISE\n",
        "    img_rotate_90_counterclockwise = cv2.rotate(img, cv2.ROTATE_90_COUNTERCLOCKWISE)\n",
        "    X.append(img_rotate_90_counterclockwise)\n",
        "    y.append('Y')\n",
        "\n",
        "    #ROTATE_180\n",
        "    img_rotate_180 = cv2.rotate(img, cv2.ROTATE_180)\n",
        "    X.append(img_rotate_180)\n",
        "    y.append('Y')\n",
        "\n",
        "    #gaussian_blur\n",
        "    img_gaussian_blur = cv2.GaussianBlur(img,(5,5),0)\n",
        "    X.append(img_gaussian_blur)\n",
        "    y.append('Y')\n",
        "print(f'X : {len(X)}, y : {len(y)}')  "
      ]
    },
    {
      "cell_type": "code",
      "execution_count": null,
      "metadata": {
        "colab": {
          "background_save": true
        },
        "id": "RHY5L7vd0PSS",
        "outputId": "82269119-2156-46e8-effc-f02b78c48b36"
      },
      "outputs": [
        {
          "name": "stdout",
          "output_type": "stream",
          "text": [
            "Shape of an image in X_train:  (224, 224, 3)\n",
            "Shape of an image in X_test:  (224, 224, 3)\n"
          ]
        }
      ],
      "source": [
        "X_train, X_test, y_train, y_test = train_test_split(X, y, test_size=0.10, random_state=42)\n",
        "print (\"Shape of an image in X_train: \", X_train[0].shape)\n",
        "print (\"Shape of an image in X_test: \", X_test[0].shape)"
      ]
    },
    {
      "cell_type": "code",
      "execution_count": null,
      "metadata": {
        "colab": {
          "background_save": true
        },
        "id": "c-kYETAl6KI-",
        "outputId": "2094d8f5-cdfe-495d-96e0-9ccb3f30ccd4"
      },
      "outputs": [
        {
          "name": "stdout",
          "output_type": "stream",
          "text": [
            "X_train Shape:  (648, 224, 224, 3)\n",
            "X_test Shape:  (73, 224, 224, 3)\n",
            "y_train Shape:  (648, 2)\n",
            "y_test Shape:  (73, 2)\n"
          ]
        }
      ],
      "source": [
        "le = preprocessing.LabelEncoder()\n",
        "y_train = le.fit_transform(y_train)\n",
        "y_test = le.fit_transform(y_test)\n",
        "y_train = tf.keras.utils.to_categorical(y_train, num_classes=2)\n",
        "y_test = tf.keras.utils.to_categorical(y_test, num_classes=2)\n",
        "y_train = np.array(y_train)\n",
        "X_train = np.array(X_train)\n",
        "y_test = np.array(y_test)\n",
        "X_test = np.array(X_test) \n",
        "print(\"X_train Shape: \", X_train.shape) \n",
        "print(\"X_test Shape: \", X_test.shape)\n",
        "print(\"y_train Shape: \", y_train.shape) \n",
        "print(\"y_test Shape: \", y_test.shape)"
      ]
    },
    {
      "cell_type": "code",
      "execution_count": null,
      "metadata": {
        "colab": {
          "background_save": true
        },
        "id": "ePIxUMED6pY1",
        "outputId": "7f0b607f-e5b8-4f70-f5d7-08e4254ec6c0"
      },
      "outputs": [
        {
          "name": "stdout",
          "output_type": "stream",
          "text": [
            "Downloading data from https://storage.googleapis.com/tensorflow/keras-applications/vgg16/vgg16_weights_tf_dim_ordering_tf_kernels_notop.h5\n",
            "58889256/58889256 [==============================] - 0s 0us/step\n",
            "0 InputLayer False\n",
            "1 Conv2D False\n",
            "2 Conv2D False\n",
            "3 MaxPooling2D False\n",
            "4 Conv2D False\n",
            "5 Conv2D False\n",
            "6 MaxPooling2D False\n",
            "7 Conv2D False\n",
            "8 Conv2D False\n",
            "9 Conv2D False\n",
            "10 MaxPooling2D False\n",
            "11 Conv2D False\n",
            "12 Conv2D False\n",
            "13 Conv2D False\n",
            "14 MaxPooling2D False\n",
            "15 Conv2D False\n",
            "16 Conv2D False\n",
            "17 Conv2D False\n",
            "18 MaxPooling2D False\n"
          ]
        }
      ],
      "source": [
        "\n",
        "\n",
        "\n",
        "img_rows, img_cols = 224, 224 \n",
        "\n",
        "\n",
        "vgg = vgg16.VGG16(weights = 'imagenet', \n",
        "                 include_top = False, \n",
        "                 input_shape = (img_rows, img_cols, 3))\n",
        "\n",
        "# Here we freeze the last 4 layers \n",
        "# Layers are set to trainable as True by default\n",
        "for layer in vgg.layers:\n",
        "    layer.trainable = False\n",
        "\n",
        "# Let's print our layers \n",
        "for (i,layer) in enumerate(vgg.layers):\n",
        "    print(str(i) + \" \"+ layer.__class__.__name__, layer.trainable)    "
      ]
    },
    {
      "cell_type": "code",
      "execution_count": null,
      "metadata": {
        "colab": {
          "background_save": true
        },
        "id": "2M58ZXnY7cv-"
      },
      "outputs": [],
      "source": [
        "def lw(bottom_model, num_classes):\n",
        "    \"\"\"creates the top or head of the model that will be \n",
        "    placed ontop of the bottom layers\"\"\"\n",
        "\n",
        "    top_model = bottom_model.output\n",
        "    top_model = GlobalAveragePooling2D()(top_model)\n",
        "    op_model = BatchNormalization()(top_model)\n",
        "\n",
        "    top_model = Dense(1024,activation='relu')(top_model)\n",
        "    top_model = BatchNormalization()(top_model)\n",
        "\n",
        "    top_model = Dense(1024,activation='relu')(top_model)\n",
        "    top_model = BatchNormalization()(top_model)\n",
        "\n",
        "    top_model = Dense(512,activation='relu')(top_model)\n",
        "    top_model = BatchNormalization()(top_model)\n",
        "    \n",
        "    top_model = Dense(num_classes,activation='sigmoid')(top_model)\n",
        "    return top_model "
      ]
    },
    {
      "cell_type": "code",
      "execution_count": null,
      "metadata": {
        "id": "Ic4LR3YS8JpD"
      },
      "outputs": [],
      "source": [
        "num_classes = 2\n",
        "\n",
        "FC_Head = lw(vgg, num_classes)\n",
        "\n",
        "model = Model(inputs = vgg.input, outputs = FC_Head)\n",
        "\n",
        "print(model.summary())\n",
        "\n",
        "model.compile(optimizer='adam', loss = 'binary_crossentropy',metrics = ['accuracy'])\n",
        "history = model.fit(X_train,y_train,\n",
        "                    epochs=30, \n",
        "                    validation_data=(X_test,y_test),\n",
        "                    verbose = 1,\n",
        "                    initial_epoch=0)"
      ]
    },
    {
      "cell_type": "code",
      "execution_count": null,
      "metadata": {
        "id": "-Emm5jgW8Zyq"
      },
      "outputs": [],
      "source": [
        "%matplotlib inline\n",
        "acc = history.history['accuracy']\n",
        "val_acc = history.history['val_accuracy']\n",
        "loss = history.history['loss']\n",
        "val_loss = history.history['val_loss']\n",
        "\n",
        "epochs = range(len(acc))\n",
        "\n",
        "plt.plot(epochs, acc, 'r', label='Training accuracy')\n",
        "plt.plot(epochs, val_acc, 'b', label='Validation accuracy')\n",
        "plt.title('Training and validation accuracy')\n",
        "plt.legend(loc=0)\n",
        "plt.figure()\n",
        "\n",
        "plt.show()"
      ]
    },
    {
      "cell_type": "code",
      "execution_count": null,
      "metadata": {
        "id": "JibDYa0z_30_"
      },
      "outputs": [],
      "source": [
        "model.save('/content/drive/MyDrive/Colab Notebooks/my_model_2.h5')"
      ]
    },
    {
      "cell_type": "code",
      "execution_count": null,
      "metadata": {
        "id": "bol06tdTswef"
      },
      "outputs": [],
      "source": [
        "new_model = tf.keras.models.load_model('/content/drive/MyDrive/Colab Notebooks/my_model_2.h5')\n",
        "\n",
        "# Check its architecture\n",
        "new_model.summary()"
      ]
    },
    {
      "cell_type": "code",
      "execution_count": null,
      "metadata": {
        "id": "wFiHPgxAs7vV"
      },
      "outputs": [],
      "source": [
        "new_model = tf.keras.models.load_model('/content/drive/MyDrive/Colab Notebooks/my_model_2.h5')"
      ]
    },
    {
      "cell_type": "code",
      "execution_count": null,
      "metadata": {
        "id": "A-S8rnfntYyu"
      },
      "outputs": [],
      "source": [
        "img = cv2.imread('/content/drive/MyDrive/11111/dataset/nonsuspecious/15.jpg')\n",
        "cv2_imshow(img) \n",
        "test_array = []\n",
        "test_array.append(img)\n",
        "test_single_image = np.array(test_array)\n",
        "print(\"test_single_image Shape: \", test_single_image.shape) "
      ]
    },
    {
      "cell_type": "code",
      "execution_count": null,
      "metadata": {
        "id": "_50p0M0rthJx"
      },
      "outputs": [],
      "source": [
        "print(new_model.predict(test_single_image))\n"
      ]
    },
    {
      "cell_type": "code",
      "execution_count": null,
      "metadata": {
        "id": "FWciUnY8zwSE"
      },
      "outputs": [],
      "source": [
        "y_prob = new_model.predict(test_single_image) \n",
        "y_classes = y_prob.argmax(axis=-1)\n",
        "print(int(y_classes[0]))"
      ]
    },
    {
      "cell_type": "code",
      "execution_count": null,
      "metadata": {
        "id": "9nhXCPiauUBd"
      },
      "outputs": [],
      "source": [
        "\n"
      ]
    }
  ],
  "metadata": {
    "colab": {
      "provenance": []
    },
    "kernelspec": {
      "display_name": "env",
      "language": "python",
      "name": "python3"
    },
    "language_info": {
      "codemirror_mode": {
        "name": "ipython",
        "version": 3
      },
      "file_extension": ".py",
      "mimetype": "text/x-python",
      "name": "python",
      "nbconvert_exporter": "python",
      "pygments_lexer": "ipython3",
      "version": "3.9.7"
    },
    "vscode": {
      "interpreter": {
        "hash": "fbaaaf22baa1eb8348c940a9aa985fca90fb700c956cebb9b3ba576e46cf1f1d"
      }
    }
  },
  "nbformat": 4,
  "nbformat_minor": 0
}
